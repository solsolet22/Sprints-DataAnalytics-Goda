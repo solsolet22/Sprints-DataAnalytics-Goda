{
 "cells": [
  {
   "cell_type": "markdown",
   "id": "864f5e83-b314-4ec6-8658-6ebd50595f18",
   "metadata": {},
   "source": [
    "# Tasca 7. Estructura de Dades i de Control\n",
    "##### Goda Sruogyte"
   ]
  },
  {
   "cell_type": "markdown",
   "id": "00542eb4-5ca3-4316-830a-a5cb43e2d0ba",
   "metadata": {},
   "source": [
    "## Nivell 1\n",
    "### Exercici 1\n",
    "Calculadora de l'índex de massa corporal. \n",
    "Escriu una funció que calculi l'IMC ingressat per l'usuari/ària; és a dir, qui ho executi haurà d'ingressar aquestes dades. La funció ha de classificar el resultat en les seves respectives categories."
   ]
  },
  {
   "cell_type": "code",
   "execution_count": 38,
   "id": "77117b98-16a5-4e4f-843d-a90575feb944",
   "metadata": {},
   "outputs": [
    {
     "name": "stdin",
     "output_type": "stream",
     "text": [
      "Introduce tu peso en kg:  66\n",
      "Introduce tu altura en metros, formato 0.00m:  1.72\n"
     ]
    },
    {
     "name": "stdout",
     "output_type": "stream",
     "text": [
      "Su IMC es:  22.31\n",
      "Clasificación: Peso normal\n"
     ]
    }
   ],
   "source": [
    "def calculadora():\n",
    "    peso = float(input(\"Introduce tu peso en kg: \"))\n",
    "    altura = float(input(\"Introduce tu altura en metros, formato 0.00m: \"))\n",
    "\n",
    "    imc = peso / (altura **2)\n",
    "\n",
    "    if imc <18.5: \n",
    "        clasificacion= \"Bajo peso\"\n",
    "    elif 18.5<=imc <24.9:\n",
    "        clasificacion= \"Peso normal\"\n",
    "    elif 25.0<=imc <=29.9: \n",
    "        clasificacion= \"Sobrepeso\"\n",
    "    elif imc >30: \n",
    "        clasificacion= \"Obesidad\"\n",
    "    else: clasificacion= \"error\"\n",
    "\n",
    "    print(f\"Su IMC es: {imc: .2f}\")\n",
    "    print(f\"Clasificación: {clasificacion}\")\n",
    "    \n",
    "calculadora()"
   ]
  },
  {
   "cell_type": "markdown",
   "id": "72a53736-b7f9-4413-87d2-665c37583c94",
   "metadata": {},
   "source": [
    "### Exercici 2\n",
    "Convertidor de temperatures:\n",
    "- Existeixen diverses unitats de temperatura utilitzades en diferents contextos i regions. Les més comunes són Celsius(ºC), Fahrenheit(ºF) i Kelvin(K). També existeixen altres unitats com Rankine (ºRa) i Réaumur (ºRe). Selecciona almenys 2 convertidors, de tal manera que en introduir una temperatura retornim com a mínim, dues conversions."
   ]
  },
  {
   "cell_type": "code",
   "execution_count": 5,
   "id": "2fdd941c-cca0-4d30-ad27-304ca50805e4",
   "metadata": {},
   "outputs": [
    {
     "name": "stdin",
     "output_type": "stream",
     "text": [
      "Ingrese la temperatura con la respectiva unidad (ejemplo: 22c):  18c\n"
     ]
    },
    {
     "name": "stdout",
     "output_type": "stream",
     "text": [
      "18.0ºC es equivalente a 64.4ºF\n"
     ]
    }
   ],
   "source": [
    "#Aquesta retorna sols una conversió:\n",
    "def conversor():\n",
    "    temp= input('Ingrese la temperatura con la respectiva unidad (ejemplo: 22c): ')\n",
    "    unidad= temp[-1].upper()\n",
    "    grados= float(temp[:-1])\n",
    "    \n",
    "    if unidad =='C':\n",
    "        temp_conv=round(grados *(9/5) +32, 1)\n",
    "        print(f'{grados}º{unidad} es equivalente a {temp_conv}ºF')\n",
    "    elif unidad =='F':\n",
    "        temp_conv= round((grados-32)*(5/9), 1)\n",
    "        print(f'{grados}º{unidad} es equivalente a {temp_conv}ºC')\n",
    "    elif unidad =='K':\n",
    "        temp_conv=round(grados -273.15, 1)\n",
    "        print(f'{grados} {unidad} es equivalente a {temp_conv}ºC')\n",
    "    elif unidad == 'R':\n",
    "        temp_conv=round((grados - 491.67) *(5/9), 1)\n",
    "        print(f'{grados}º{unidad} es equivalente a {temp_conv}ºC')\n",
    "    else:\n",
    "        print('Introduce una unidad válida: C(Celsius), F(Fahrenheit), K(Kelvin), R(Rankine)')\n",
    "\n",
    "conversor()"
   ]
  },
  {
   "cell_type": "code",
   "execution_count": 6,
   "id": "b03027ee-d026-4520-aa52-f915512f4623",
   "metadata": {},
   "outputs": [
    {
     "name": "stdin",
     "output_type": "stream",
     "text": [
      "Ingrese la temperatura con la respectiva unidad (ejemplo: 22c):  18c\n"
     ]
    },
    {
     "name": "stdout",
     "output_type": "stream",
     "text": [
      "18.0ºC es equivalente a 64.4ºF y a -255.1K\n"
     ]
    }
   ],
   "source": [
    "def conversor():\n",
    "    temp= input('Ingrese la temperatura con la respectiva unidad (ejemplo: 22c): ')\n",
    "    unidad= temp[-1].upper()\n",
    "    grados= float(temp[:-1])\n",
    "    \n",
    "    if unidad =='C':\n",
    "        temp_conv=round(grados *(9/5) +32, 1)\n",
    "        conv=round(grados -273.15, 1)\n",
    "        print(f'{grados}º{unidad} es equivalente a {temp_conv}ºF y a {conv}K')\n",
    "    elif unidad =='F':\n",
    "        temp_conv= round((grados-32)*(5/9), 1)\n",
    "        conv=round(grados + 255.37, 1)\n",
    "        print(f'{grados}º{unidad} es equivalente a {temp_conv}ºC y a {conv}K')\n",
    "    elif unidad =='K':\n",
    "        temp_conv=round(grados -273.15, 1)\n",
    "        conv=round((grados*1.8) +459.67, 1)\n",
    "        print(f'{grados} {unidad} es equivalente a {temp_conv}ºC y a {conv}ºRa')\n",
    "    elif unidad == 'R':\n",
    "        temp_conv=round((grados - 491.67) *(5/9), 1)\n",
    "        conv= round(grados - 458.67, 1)\n",
    "        print(f'{grados}º{unidad} es equivalente a {temp_conv}ºC y a {conv}ºF')\n",
    "    else:\n",
    "        print('Introduce una unidad válida: C(Celsius), F(Fahrenheit), K(Kelvin), R(Rankine)')\n",
    "\n",
    "conversor()"
   ]
  },
  {
   "cell_type": "markdown",
   "id": "8ab8c67e-df26-40a2-b39c-7ec1014588b4",
   "metadata": {},
   "source": [
    "### Exercici 3\n",
    "Comptador de paraules d'un text. \n",
    "- Escriu una funció que donat un text, mostri les vegades que apareix cada paraula."
   ]
  },
  {
   "cell_type": "code",
   "execution_count": 7,
   "id": "55f40fac-b87a-4180-835d-4106b68735f1",
   "metadata": {},
   "outputs": [
    {
     "name": "stdout",
     "output_type": "stream",
     "text": [
      "{'hola': 1, 'bon': 1, 'dia': 2, 'me': 2, 'llamo': 2, 'goda': 1, 'como': 1, 'te': 1, 'llamas?': 1, 'yo': 1, 'isabel': 1}\n"
     ]
    }
   ],
   "source": [
    "#cuenta las veces que aparece cada palabra de un texto en forma de función\n",
    "def contar_palabras(texto):\n",
    "    \n",
    "    texto=texto.lower()\n",
    "    for x in '-.,\\n':\n",
    "        texto= texto.replace(x, ' ')\n",
    "    palabras= texto.split()\n",
    "    conteo_palabras={}\n",
    "    for palabra in palabras:\n",
    "        if palabra in conteo_palabras:\n",
    "            conteo_palabras[palabra] +=1\n",
    "        else:\n",
    "            conteo_palabras[palabra] =1\n",
    "    return conteo_palabras\n",
    "\n",
    "texto = \"hola bon dia dia me llamo goda. como te llamas? yo me llamo isabel\"\n",
    "resultado= contar_palabras(texto)\n",
    "print(resultado)"
   ]
  },
  {
   "cell_type": "code",
   "execution_count": 9,
   "id": "b7151803-ef1e-41c7-8e05-eed188ae398d",
   "metadata": {},
   "outputs": [
    {
     "name": "stdin",
     "output_type": "stream",
     "text": [
      "Introduce el texto:  hola buenos días\n"
     ]
    },
    {
     "name": "stdout",
     "output_type": "stream",
     "text": [
      "La cantidad de palabras en el texto es: 3\n"
     ]
    }
   ],
   "source": [
    "# contados de palabras totales, texto de forma manual:\n",
    "def contador_palabras(texto):\n",
    "    texto_limpio= texto.replace(\",\", \"\")\n",
    "    palabras= texto_limpio.split()\n",
    "    cantidad_palabras= len(palabras)\n",
    "    return cantidad_palabras\n",
    "\n",
    "texto_ingresado= input(\"Introduce el texto: \")\n",
    "resultado= contador_palabras(texto_ingresado)\n",
    "\n",
    "print(f\"La cantidad de palabras en el texto es: {resultado}\")"
   ]
  },
  {
   "cell_type": "code",
   "execution_count": 5,
   "id": "35fe05e2-0f91-49a9-8cb4-e142889f1aca",
   "metadata": {},
   "outputs": [
    {
     "name": "stdin",
     "output_type": "stream",
     "text": [
      "Introduce el nombre del archivo (ejemplo: imc.txt):  tu_me_quieres_blanca.txt\n"
     ]
    },
    {
     "name": "stdout",
     "output_type": "stream",
     "text": [
      "Word                 Frequency\n",
      "me                   10\n",
      "tú                   8\n",
      "de                   8\n",
      "las                  7\n",
      "quieres              6\n",
      "que                  6\n",
      "y                    5\n",
      "alba                 4\n",
      "los                  4\n",
      "en                   4\n",
      "el                   4\n",
      "con                  4\n",
      "casta                3\n",
      "blanca               3\n",
      "a                    3\n",
      "pretendes            3\n",
      "te                   3\n",
      "la                   3\n",
      "preténdeme           3\n",
      "sobre                2\n",
      "todas                2\n",
      "ni                   2\n",
      "se                   2\n",
      "nívea                2\n",
      "carnes               2\n",
      "al                   2\n",
      "por                  2\n",
      "dios                 2\n",
      "lo                   2\n",
      "perdone              2\n",
      "cuando               2\n",
      "espumas              1\n",
      "nácar                1\n",
      "sea                  1\n",
      "azucena              1\n",
      "perfume              1\n",
      "tenue                1\n",
      "corola               1\n",
      "cerrada              1\n",
      "un                   1\n",
      "rayo                 1\n",
      "luna                 1\n",
      "filtrado             1\n",
      "haya                 1\n",
      "una                  1\n",
      "margarita            1\n",
      "diga                 1\n",
      "mi                   1\n",
      "hermana              1\n",
      "hubiste              1\n",
      "copas                1\n",
      "mano                 1\n",
      "frutos               1\n",
      "mieles               1\n",
      "labios               1\n",
      "morados              1\n",
      "banquete             1\n",
      "cubierto             1\n",
      "pámpanos             1\n",
      "dejaste              1\n",
      "festejando           1\n",
      "baco                 1\n",
      "jardines             1\n",
      "negros               1\n",
      "del                  1\n",
      "engaño               1\n",
      "vestido              1\n",
      "rojo                 1\n",
      "corriste             1\n",
      "estrago              1\n",
      "esqueleto            1\n",
      "conservas            1\n",
      "intacto              1\n",
      "no                   1\n",
      "sé                   1\n",
      "todavía              1\n",
      "cuáles               1\n",
      "milagros             1\n",
      "huye                 1\n",
      "hacia                1\n",
      "bosques              1\n",
      "vete                 1\n",
      "montaña              1\n",
      "límpiate             1\n",
      "boca                 1\n",
      "vive                 1\n",
      "cabañas              1\n",
      "toca                 1\n",
      "manos                1\n",
      "tierra               1\n",
      "mojada               1\n",
      "alimenta             1\n",
      "cuerpo               1\n",
      "raíz                 1\n",
      "amarga               1\n",
      "bebe                 1\n",
      "rocas                1\n",
      "duerme               1\n",
      "escarcha             1\n",
      "renueva              1\n",
      "tejidos              1\n",
      "salitre              1\n",
      "agua                 1\n",
      "habla                1\n",
      "pájaros              1\n",
      "lévate               1\n",
      "sean                 1\n",
      "tornadas             1\n",
      "hayas                1\n",
      "puesto               1\n",
      "ellas                1\n",
      "alma                 1\n",
      "alcobas              1\n",
      "quedó                1\n",
      "enredada             1\n",
      "entonces             1\n",
      "buen                 1\n",
      "hombre               1\n"
     ]
    }
   ],
   "source": [
    "# introducir texto en archivo, mirar que esté en lamisma carpeta\n",
    "\n",
    "import operator\n",
    "import re\n",
    "import nltk\n",
    "import matplotlib.pyplot as plt\n",
    "from nltk.tokenize import RegexpTokenizer\n",
    "from nltk.corpus import stopwords\n",
    "from nltk.stem import SnowballStemmer\n",
    "from nltk import WordNetLemmatizer\n",
    "\n",
    "\n",
    "fbook = input(\"Introduce el nombre del archivo (ejemplo: imc.txt): \")\n",
    "dict_of_words = {}\n",
    "with open(fbook, 'r', encoding=\"utf8\") as fhand:\n",
    "    for line in fhand:\n",
    "        line.strip()\n",
    "        new_line = ''.join(c for c in line if c.isalnum() or c == \"’\" or c ==' ' or c == '—' or c =='-')\n",
    "        new_line = new_line.replace(\"—\",\" \")\n",
    "        words_of_line = new_line.split()\n",
    "        for word in words_of_line:\n",
    "            if word[-1] == '’':\n",
    "                word = word[:len(word)-1]\n",
    "            word = word.lower()\n",
    "            if word not in dict_of_words.keys():\n",
    "                dict_of_words[word] = 1\n",
    "            else:\n",
    "                dict_of_words[word] += 1\n",
    "    sorted_list_of_words = sorted(dict_of_words.items(), key=operator.itemgetter(1), reverse=True)\n",
    "    print(\"{:<20} {:<}\".format(\"Word\", \"Frequency\"))\n",
    "    for w,f in sorted_list_of_words:\n",
    "        print(\"{:<20} {:<}\".format(w,f))"
   ]
  },
  {
   "cell_type": "markdown",
   "id": "8eb6a614-f114-4516-ae83-9627b14f774a",
   "metadata": {},
   "source": [
    "### Exercici 4\n",
    "Diccionari invers.\n",
    "* Resulta que el client té una enquesta molt antiga que s'emmagatzema en un diccionari i els resultats els necessita al revés, és a dir, intercanviats les claus i els valors. Els valors i claus en el diccionari original són únics; si aquest no és el cas, la funcióhauria d'imprimir un missatge d'advertiment."
   ]
  },
  {
   "cell_type": "code",
   "execution_count": 6,
   "id": "859c98a8-ae46-49ed-980f-e7f947490215",
   "metadata": {},
   "outputs": [
    {
     "name": "stdout",
     "output_type": "stream",
     "text": [
      "Error: multiple keys for one value\n",
      "{'apple': 'x', 'banana': 'z'}\n"
     ]
    }
   ],
   "source": [
    "def invertir(diccionario):\n",
    "    valores = list(diccionario.values())\n",
    "    if len(valores) != len(set(valores)):  \n",
    "        print(\"Error: multiple keys for one value\")\n",
    "    \n",
    "    return {valor: clave for clave, valor in diccionario.items()}\n",
    "\n",
    "reverse_dictionary={'x': 'apple', 'y': 'banana', 'z': 'banana'}\n",
    "diccionario_invertido = invertir(reverse_dictionary)\n",
    "\n",
    "print(diccionario_invertido)"
   ]
  },
  {
   "cell_type": "code",
   "execution_count": 7,
   "id": "8ac63592-d16f-406f-9d60-8d3c53e7f8b1",
   "metadata": {},
   "outputs": [
    {
     "name": "stdout",
     "output_type": "stream",
     "text": [
      "error: multiple keys for one value\n",
      "None\n"
     ]
    }
   ],
   "source": [
    "def invertido(diccionari):\n",
    "    reverse_dictionary = {}\n",
    "    for key, value in diccionari.items():\n",
    "        if value in reverse_dictionary:\n",
    "            print(\"error: multiple keys for one value\")\n",
    "            return\n",
    "        reverse_dictionary[value] = key\n",
    "    \n",
    "    return reverse_dictionary\n",
    "diccionari={'x': 'apple', 'y': 'banana', 'z': 'banana'}\n",
    "print(invertido(diccionari))"
   ]
  },
  {
   "cell_type": "markdown",
   "id": "e4f6a795-84bd-4255-95c6-7a53cc844d67",
   "metadata": {},
   "source": [
    "## Nivell 2\n",
    "### Exercici 1\n",
    "Diccionari invers amb duplicats\n",
    "* Continuant amb l'exercici 4 del nivell 1: al client es va oblidar de comentar un detall i resulta que els valors en el diccionari original poden duplicar-se i més, per la qual cosa les claus intercanviades poden tenir duplicats. En aquest cas, en l'exercici anterior imprimeix un missatge d'advertiment, ara, els valors del diccionari resultant hauran d'emmagatzemar-se com una llista. Tingues en compte que si és un valor únic no ha de ser una llista."
   ]
  },
  {
   "cell_type": "code",
   "execution_count": 2,
   "id": "184a8956-3386-4197-acc3-41501bd34400",
   "metadata": {},
   "outputs": [
    {
     "name": "stdout",
     "output_type": "stream",
     "text": [
      "Error: multiple keys for one value\n",
      "{'apple': 'x', 'banana': 'z'}\n"
     ]
    }
   ],
   "source": [
    "def invertir(diccionario):\n",
    "    valores = list(diccionario.values())\n",
    "    if len(valores) != len(set(valores)):  \n",
    "        print(\"Error: multiple keys for one value\")\n",
    "    \n",
    "    return {valor: clave for clave, valor in diccionario.items()}\n",
    "\n",
    "reverse_dictionary={'x': 'apple', 'y': 'banana', 'z': 'banana'}\n",
    "diccionario_invertido = invertir(reverse_dictionary)\n",
    "\n",
    "diccionario_invertido_lista=diccionario_invertido.copy()\n",
    "print(diccionario_invertido_lista)"
   ]
  },
  {
   "cell_type": "code",
   "execution_count": 4,
   "id": "b241df37-8cef-4f77-9320-654a70a9fc1d",
   "metadata": {},
   "outputs": [
    {
     "name": "stdout",
     "output_type": "stream",
     "text": [
      "{'apple': 'x', 'banana': ['y', 'z']}\n"
     ]
    }
   ],
   "source": [
    "## Aquesta funció:\n",
    "def invertir2(diccionari):\n",
    "    reverse_dictionary = {}\n",
    "    for key, value in diccionari.items():\n",
    "        if value in reverse_dictionary:\n",
    "            if isinstance(reverse_dictionary[value], list):\n",
    "                reverse_dictionary[value].append(key)\n",
    "            else:\n",
    "                reverse_dictionary[value] = [reverse_dictionary[value], key]\n",
    "        else:\n",
    "            reverse_dictionary[value] = key\n",
    "    return reverse_dictionary\n",
    "\n",
    "diccionari = {'x': 'apple', 'y': 'banana', 'z': 'banana'}\n",
    "print(invertir2(diccionari))"
   ]
  },
  {
   "cell_type": "markdown",
   "id": "682bbb36-0916-4332-bc1d-d2cd8e65e990",
   "metadata": {},
   "source": [
    "### Exercici 2\n",
    "Conversió de tipus de dades\n",
    "] El client rep una llista de dades i necessita generar dues llistes, la primera on estaran tots els elements que es van poder convertir en flotants i l'altra on estan els elements que no es van poder convertir. Exemple de la llista que rep el client: ['1.3', 'one', '1e10', 'seven', '3-1/2', ('2',1,1.4.'not-a-number'). [1,2,'3','3.4']]"
   ]
  },
  {
   "cell_type": "code",
   "execution_count": 8,
   "id": "11bb6f8f-b6a6-4aba-949d-efa624fe439e",
   "metadata": {},
   "outputs": [
    {
     "name": "stdout",
     "output_type": "stream",
     "text": [
      "a : 1\n",
      "b : 2\n",
      "c : 3\n",
      "\n",
      "1 : a\n",
      "2 : b\n",
      "3 : c\n"
     ]
    }
   ],
   "source": [
    "# invertim key values, provem:\n",
    "dict_name = {\"a\": 1,\n",
    "             \"b\":2,\n",
    "             \"c\": 3\n",
    "            }\n",
    "for key in dict_name:\n",
    "    print(f\"{key} : {dict_name[key]}\")\n",
    "print()\n",
    "for key, value in dict_name.items():\n",
    "    print(f\"{value} : {key}\")\n"
   ]
  },
  {
   "cell_type": "code",
   "execution_count": 9,
   "id": "39e84b13-1289-48e2-bdc9-0c7d6a9254fd",
   "metadata": {},
   "outputs": [
    {
     "name": "stdout",
     "output_type": "stream",
     "text": [
      "se puede convertir: [1.3, 10000000000.0]\n",
      "no se puede convertir: ['one', 'seven', '3-1/2', ('2', 1, 1.4, 'not-a-number'), [1, 2, '3', '3.4']]\n"
     ]
    }
   ],
   "source": [
    "# primera opció:\n",
    "\n",
    "def convertidor(lista):\n",
    "    convertir = []\n",
    "    noconvertir = []\n",
    "    \n",
    "    for item in lista:\n",
    "        try: \n",
    "            convertir.append(float(item))\n",
    "        except (ValueError, TypeError):\n",
    "            noconvertir.append(item)\n",
    "    return convertir, noconvertir\n",
    "\n",
    "ejemplo = ['1.3', 'one', '1e10', 'seven', '3-1/2', ('2', 1, 1.4, 'not-a-number'), [1, 2, '3', '3.4']]\n",
    "convertir, noconvertir = convertidor(ejemplo)\n",
    "\n",
    "print(\"se puede convertir:\", convertir)\n",
    "print(\"no se puede convertir:\", noconvertir)"
   ]
  },
  {
   "cell_type": "code",
   "execution_count": 39,
   "id": "d139eefc-5dc4-476a-8eb4-d3e23724c6d0",
   "metadata": {},
   "outputs": [
    {
     "name": "stdout",
     "output_type": "stream",
     "text": [
      "error: multiple keys for one value\n",
      "None\n"
     ]
    }
   ],
   "source": [
    "def invertido(diccionari):\n",
    "    reverse_dictionary = {}\n",
    "    for key, value in diccionari.items():\n",
    "        if value in reverse_dictionary:\n",
    "            print(\"error: multiple keys for one value\")\n",
    "            return\n",
    "        reverse_dictionary[value] = key\n",
    "    \n",
    "    return reverse_dictionary\n",
    "diccionari={'x': 'apple', 'y': 'banana', 'z': 'banana'}\n",
    "print(invertido(diccionari))"
   ]
  },
  {
   "cell_type": "markdown",
   "id": "0a2a60ca-5285-43f7-a52d-ffb4c38197ab",
   "metadata": {},
   "source": [
    "## Nivell 2\n",
    "### Exercici 1\n",
    "Diccionari invers amb duplicats\n",
    "* Continuant amb l'exercici 4 del nivell 1: al client es va oblidar de comentar un detall i resulta que els valors en el diccionari original poden duplicar-se i més, per la qual cosa les claus intercanviades poden tenir duplicats. En aquest cas, en l'exercici anterior imprimeix un missatge d'advertiment, ara, els valors del diccionari resultant hauran d'emmagatzemar-se com una llista. Tingues en compte que si és un valor únic no ha de ser una llista."
   ]
  },
  {
   "cell_type": "code",
   "execution_count": 40,
   "id": "0327f9a4-8aa0-438b-80dd-a959930b108a",
   "metadata": {},
   "outputs": [
    {
     "name": "stdout",
     "output_type": "stream",
     "text": [
      "Error: multiple keys for one value\n",
      "{'apple': 'x', 'banana': 'z'}\n"
     ]
    }
   ],
   "source": [
    "def invertir(diccionario):\n",
    "    valores = list(diccionario.values())\n",
    "    if len(valores) != len(set(valores)):  \n",
    "        print(\"Error: multiple keys for one value\")\n",
    "    \n",
    "    return {valor: clave for clave, valor in diccionario.items()}\n",
    "\n",
    "reverse_dictionary={'x': 'apple', 'y': 'banana', 'z': 'banana'}\n",
    "diccionario_invertido = invertir(reverse_dictionary)\n",
    "\n",
    "diccionario_invertido_lista=diccionario_invertido.copy()\n",
    "print(diccionario_invertido_lista)"
   ]
  },
  {
   "cell_type": "code",
   "execution_count": 41,
   "id": "3399dc89-a590-49c7-b856-8c4cb824c4a5",
   "metadata": {},
   "outputs": [
    {
     "name": "stdout",
     "output_type": "stream",
     "text": [
      "{'apple': 'x', 'banana': ['y', 'z']}\n"
     ]
    }
   ],
   "source": [
    "def invertir2(diccionari):\n",
    "    reverse_dictionary = {}\n",
    "    for key, value in diccionari.items():\n",
    "        if value in reverse_dictionary:\n",
    "            if isinstance(reverse_dictionary[value], list):\n",
    "                reverse_dictionary[value].append(key)\n",
    "            else:\n",
    "                reverse_dictionary[value] = [reverse_dictionary[value], key]\n",
    "        else:\n",
    "            reverse_dictionary[value] = key\n",
    "    return reverse_dictionary\n",
    "\n",
    "diccionari = {'x': 'apple', 'y': 'banana', 'z': 'banana'}\n",
    "print(invertir2(diccionari))"
   ]
  },
  {
   "cell_type": "markdown",
   "id": "93d2a7b3-14e7-400d-8411-740c9672eead",
   "metadata": {},
   "source": [
    "### Exercici 2\n",
    "Conversió de tipus de dades\n",
    "] El client rep una llista de dades i necessita generar dues llistes, la primera on estaran tots els elements que es van poder convertir en flotants i l'altra on estan els elements que no es van poder convertir. Exemple de la llista que rep el client: ['1.3', 'one', '1e10', 'seven', '3-1/2', ('2',1,1.4.'not-a-number'). [1,2,'3','3.4']]"
   ]
  },
  {
   "cell_type": "code",
   "execution_count": 43,
   "id": "b00a112c-8dea-42a9-a918-5eb80fdb222a",
   "metadata": {},
   "outputs": [
    {
     "name": "stdout",
     "output_type": "stream",
     "text": [
      "se puede convertir: [1.3, 10000000000.0]\n",
      "no se puede convertir: ['one', 'seven', '3-1/2', ('2', 1, 1.4, 'not-a-number'), [1, 2, '3', '3.4']]\n"
     ]
    }
   ],
   "source": [
    "#casi\n",
    "def convertidor(lista):\n",
    "    convertir = []\n",
    "    noconvertir = []\n",
    "    \n",
    "    for item in lista:\n",
    "        try: \n",
    "            convertir.append(float(item))\n",
    "        except (ValueError, TypeError):\n",
    "            noconvertir.append(item)\n",
    "    return convertir, noconvertir\n",
    "\n",
    "ejemplo = ['1.3', 'one', '1e10', 'seven', '3-1/2', ('2', 1, 1.4, 'not-a-number'), [1, 2, '3', '3.4']]\n",
    "convertir, noconvertir = convertidor(ejemplo)\n",
    "\n",
    "print(\"se puede convertir:\", convertir)\n",
    "print(\"no se puede convertir:\", noconvertir)"
   ]
  },
  {
   "cell_type": "code",
   "execution_count": 44,
   "id": "9cdb991e-f9ef-453b-8afd-2819d0bfc6d7",
   "metadata": {},
   "outputs": [
    {
     "name": "stdout",
     "output_type": "stream",
     "text": [
      "se puede convertir: [1.3, 10000000000.0, [2.0, 1.0, 1.4], [1.0, 2.0, 3.0, 3.4]]\n",
      "no se puede convertir: ['one', 'seven', '3-1/2', 'not-a-number']\n"
     ]
    }
   ],
   "source": [
    "def convertidor(lista):\n",
    "    convertir = []\n",
    "    noconvertir = []\n",
    "    \n",
    "    def tryconvertidor(item):\n",
    "        try:\n",
    "            return float(item), True\n",
    "        except (ValueError, TypeError):\n",
    "            return item, False\n",
    "    \n",
    "    for item in lista:\n",
    "        if isinstance(item, (list, tuple)):\n",
    "            convertir2 =  []\n",
    "            noconvertir2 = []\n",
    "            for x in item:\n",
    "                y, z = tryconvertidor(x)\n",
    "                if z:\n",
    "                    convertir2.append(y)\n",
    "                else:\n",
    "                    noconvertir2.append(y)\n",
    "            if convertir2:\n",
    "                convertir.append(convertir2 if len(convertir2) > 1 else convertir2[0])\n",
    "            if noconvertir2:\n",
    "                noconvertir.append(noconvertir2 if len(noconvertir2) > 1 else noconvertir2[0])\n",
    "        else:\n",
    "            y, z = tryconvertidor(item)\n",
    "            if z:\n",
    "                convertir.append(y)\n",
    "            else:\n",
    "                noconvertir.append(y)\n",
    "    return convertir, noconvertir\n",
    "       \n",
    "ejemplo = ['1.3', 'one', '1e10', 'seven', '3-1/2', ('2', 1, 1.4, 'not-a-number'), [1, 2, '3', '3.4']]\n",
    "\n",
    "convertir, noconvertir = convertidor(ejemplo)\n",
    "\n",
    "print(\"se puede convertir:\", convertir)\n",
    "print(\"no se puede convertir:\", noconvertir)"
   ]
  },
  {
   "cell_type": "markdown",
   "id": "ec32257c-9db4-4bd0-88c1-96db0ee08d41",
   "metadata": {},
   "source": [
    "## Nivell 3\n",
    "### Exercici 1\n",
    "#### Comprador i endreçador\n",
    "* El client va quedar content amb el comptador de paraules, però ara vol llegir arxius TXT i que calculi la freqüència de cada paraula ordenades dins de les entrades habituals del diccionari segons la lletra amb la qual comencen, és a dir, les claus han d'anar de la A a la Z i dins de la A hem d'anar de la A a la Z. Per exemple, per a l'arxiu \"tu_me_quieres_blanca.txt\" la sortida esperada seria:"
   ]
  },
  {
   "cell_type": "code",
   "execution_count": 45,
   "id": "53e5c0b9-1c46-498f-b2fb-d32ee3fb5cb9",
   "metadata": {},
   "outputs": [
    {
     "name": "stdin",
     "output_type": "stream",
     "text": [
      "Introduce el nombre del archivo (ejemplo: imc.txt):  tu_me_quieres_blanca.txt\n"
     ]
    },
    {
     "name": "stdout",
     "output_type": "stream",
     "text": [
      "Word                 Frequency\n",
      "a                    3\n",
      "agua                 1\n",
      "al                   2\n",
      "alba                 4\n",
      "alcobas              1\n",
      "alimenta             1\n",
      "alma                 1\n",
      "amarga               1\n",
      "azucena              1\n",
      "baco                 1\n",
      "banquete             1\n",
      "bebe                 1\n",
      "blanca               3\n",
      "boca                 1\n",
      "bosques              1\n",
      "buen                 1\n",
      "cabañas              1\n",
      "carnes               2\n",
      "casta                3\n",
      "cerrada              1\n",
      "con                  4\n",
      "conservas            1\n",
      "copas                1\n",
      "corola               1\n",
      "corriste             1\n",
      "cuando               2\n",
      "cubierto             1\n",
      "cuerpo               1\n",
      "cuáles               1\n",
      "de                   8\n",
      "dejaste              1\n",
      "del                  1\n",
      "diga                 1\n",
      "dios                 2\n",
      "duerme               1\n",
      "el                   4\n",
      "ellas                1\n",
      "en                   4\n",
      "engaño               1\n",
      "enredada             1\n",
      "entonces             1\n",
      "escarcha             1\n",
      "espumas              1\n",
      "esqueleto            1\n",
      "estrago              1\n",
      "festejando           1\n",
      "filtrado             1\n",
      "frutos               1\n",
      "habla                1\n",
      "hacia                1\n",
      "haya                 1\n",
      "hayas                1\n",
      "hermana              1\n",
      "hombre               1\n",
      "hubiste              1\n",
      "huye                 1\n",
      "intacto              1\n",
      "jardines             1\n",
      "la                   3\n",
      "labios               1\n",
      "las                  7\n",
      "lo                   2\n",
      "los                  4\n",
      "luna                 1\n",
      "lévate               1\n",
      "límpiate             1\n",
      "mano                 1\n",
      "manos                1\n",
      "margarita            1\n",
      "me                   10\n",
      "mi                   1\n",
      "mieles               1\n",
      "milagros             1\n",
      "mojada               1\n",
      "montaña              1\n",
      "morados              1\n",
      "negros               1\n",
      "ni                   2\n",
      "no                   1\n",
      "nácar                1\n",
      "nívea                2\n",
      "perdone              2\n",
      "perfume              1\n",
      "por                  2\n",
      "pretendes            3\n",
      "preténdeme           3\n",
      "puesto               1\n",
      "pájaros              1\n",
      "pámpanos             1\n",
      "que                  6\n",
      "quedó                1\n",
      "quieres              6\n",
      "rayo                 1\n",
      "raíz                 1\n",
      "renueva              1\n",
      "rocas                1\n",
      "rojo                 1\n",
      "salitre              1\n",
      "se                   2\n",
      "sea                  1\n",
      "sean                 1\n",
      "sobre                2\n",
      "sé                   1\n",
      "te                   3\n",
      "tejidos              1\n",
      "tenue                1\n",
      "tierra               1\n",
      "toca                 1\n",
      "todas                2\n",
      "todavía              1\n",
      "tornadas             1\n",
      "tú                   8\n",
      "un                   1\n",
      "una                  1\n",
      "vestido              1\n",
      "vete                 1\n",
      "vive                 1\n",
      "y                    5\n"
     ]
    }
   ],
   "source": [
    "# amb el mateix codi de contar paraules però ordenant alfabèticament:\n",
    "import operator\n",
    "fbook = input(\"Introduce el nombre del archivo (ejemplo: imc.txt): \")\n",
    "dict_of_words = {}\n",
    "with open(fbook, 'r', encoding='utf8') as fhand:\n",
    "    for line in fhand:\n",
    "        line.strip()\n",
    "        new_line = ''.join(c for c in line if c.isalnum() or c == \"’\" or c ==' ' or c == '—' or c =='-')\n",
    "        new_line = new_line.replace(\"—\",\" \")\n",
    "        words_of_line = new_line.split()\n",
    "        for word in words_of_line:\n",
    "            if word[-1] == '’':\n",
    "                word = word[:len(word)-1]\n",
    "            word = word.lower()\n",
    "            if word not in dict_of_words.keys():\n",
    "                dict_of_words[word] = 1\n",
    "            else:\n",
    "                dict_of_words[word] += 1\n",
    "    sorted_list_of_words = sorted(dict_of_words.items(), key=operator.itemgetter(0))\n",
    "    print(\"{:<20} {:<}\".format(\"Word\", \"Frequency\"))\n",
    "    for w,f in sorted_list_of_words:\n",
    "        print(\"{:<20} {:<}\".format(w,f))"
   ]
  },
  {
   "cell_type": "code",
   "execution_count": 46,
   "id": "084de9b7-d198-43fa-b4c5-a1043b019adb",
   "metadata": {},
   "outputs": [
    {
     "name": "stdin",
     "output_type": "stream",
     "text": [
      "Introduce el nombre del archivo (ejemplo: imc.txt):  tu_me_quieres_blanca.txt\n"
     ]
    },
    {
     "name": "stdout",
     "output_type": "stream",
     "text": [
      "{'a': {'a': 3, 'agua': 1, 'al': 2, 'alba': 4, 'alcobas': 1, 'alimenta': 1, 'alma': 1, 'amarga': 1, 'azucena': 1}, 'b': {'baco': 1, 'banquete': 1, 'bebe': 1, 'blanca': 3, 'boca': 1, 'bosques': 1, 'buen': 1}, 'c': {'cabañas': 1, 'carnes': 2, 'casta': 3, 'cerrada': 1, 'con': 4, 'conservas': 1, 'copas': 1, 'corola': 1, 'corriste': 1, 'cuando': 2, 'cubierto': 1, 'cuerpo': 1, 'cuáles': 1}, 'd': {'de': 8, 'dejaste': 1, 'del': 1, 'diga': 1, 'dios': 2, 'duerme': 1}, 'e': {'el': 4, 'ellas': 1, 'en': 4, 'engaño': 1, 'enredada': 1, 'entonces': 1, 'escarcha': 1, 'espumas': 1, 'esqueleto': 1, 'estrago': 1}, 'f': {'festejando': 1, 'filtrado': 1, 'frutos': 1}, 'h': {'habla': 1, 'hacia': 1, 'haya': 1, 'hayas': 1, 'hermana': 1, 'hombre': 1, 'hubiste': 1, 'huye': 1}, 'i': {'intacto': 1}, 'j': {'jardines': 1}, 'l': {'la': 3, 'labios': 1, 'las': 7, 'lo': 2, 'los': 4, 'luna': 1, 'lévate': 1, 'límpiate': 1}, 'm': {'mano': 1, 'manos': 1, 'margarita': 1, 'me': 10, 'mi': 1, 'mieles': 1, 'milagros': 1, 'mojada': 1, 'montaña': 1, 'morados': 1}, 'n': {'negros': 1, 'ni': 2, 'no': 1, 'nácar': 1, 'nívea': 2}, 'p': {'perdone': 2, 'perfume': 1, 'por': 2, 'pretendes': 3, 'preténdeme': 3, 'puesto': 1, 'pájaros': 1, 'pámpanos': 1}, 'q': {'que': 6, 'quedó': 1, 'quieres': 6}, 'r': {'rayo': 1, 'raíz': 1, 'renueva': 1, 'rocas': 1, 'rojo': 1}, 's': {'salitre': 1, 'se': 2, 'sea': 1, 'sean': 1, 'sobre': 2, 'sé': 1}, 't': {'te': 3, 'tejidos': 1, 'tenue': 1, 'tierra': 1, 'toca': 1, 'todas': 2, 'todavía': 1, 'tornadas': 1, 'tú': 8}, 'u': {'un': 1, 'una': 1}, 'v': {'vestido': 1, 'vete': 1, 'vive': 1}, 'y': {'y': 5}}\n"
     ]
    }
   ],
   "source": [
    "#ordenat alfabèticament, diccionari anidat com ens demana l'enunciat\n",
    "import operator\n",
    "fbook = input(\"Introduce el nombre del archivo (ejemplo: imc.txt): \")\n",
    "dict_of_words = {}\n",
    "with open(fbook, 'r', encoding=\"utf8\") as fhand:\n",
    "    for line in fhand:\n",
    "        line.strip()\n",
    "        new_line = ''.join(c for c in line if c.isalnum() or c == \"’\" or c ==' ' or c == '—' or c =='-')\n",
    "        new_line = new_line.replace(\"—\",\" \")\n",
    "        words_of_line = new_line.split()\n",
    "        for word in words_of_line:\n",
    "            if word[-1] == '’':\n",
    "                word = word[:len(word)-1]\n",
    "            word = word.lower()\n",
    "            if word not in dict_of_words.keys():\n",
    "                dict_of_words[word] = 1\n",
    "            else:\n",
    "                dict_of_words[word] += 1\n",
    "    diccionario_anidado = {}\n",
    "    for word, frequency in dict_of_words.items():\n",
    "        inicial = word[0]\n",
    "        if inicial not in diccionario_anidado:\n",
    "            diccionario_anidado[inicial] = {}\n",
    "        diccionario_anidado[inicial][word] = frequency\n",
    "    sorted_diccionario_anidado = {}\n",
    "    for letter in sorted(diccionario_anidado.keys()):\n",
    "        sorted_diccionario_anidado[letter] = dict(sorted(diccionario_anidado[letter].items()))\n",
    "    print(sorted_diccionario_anidado)"
   ]
  }
 ],
 "metadata": {
  "kernelspec": {
   "display_name": "Python 3 (ipykernel)",
   "language": "python",
   "name": "python3"
  },
  "language_info": {
   "codemirror_mode": {
    "name": "ipython",
    "version": 3
   },
   "file_extension": ".py",
   "mimetype": "text/x-python",
   "name": "python",
   "nbconvert_exporter": "python",
   "pygments_lexer": "ipython3",
   "version": "3.9.12"
  }
 },
 "nbformat": 4,
 "nbformat_minor": 5
}
