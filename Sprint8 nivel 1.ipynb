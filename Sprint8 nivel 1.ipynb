{
 "cells": [
  {
   "cell_type": "code",
   "execution_count": 152,
   "id": "52d553ad",
   "metadata": {},
   "outputs": [
    {
     "name": "stdout",
     "output_type": "stream",
     "text": [
      "Requirement already satisfied: mysql-connector-python in c:\\users\\godas\\anaconda3\\lib\\site-packages (9.2.0)Note: you may need to restart the kernel to use updated packages.\n",
      "\n"
     ]
    }
   ],
   "source": [
    "pip install mysql-connector-python"
   ]
  },
  {
   "cell_type": "code",
   "execution_count": 288,
   "id": "277d1dd6",
   "metadata": {},
   "outputs": [],
   "source": [
    "import mysql.connector\n",
    "import sqlalchemy\n",
    "from sqlalchemy import create_engine\n",
    "\n",
    "import matplotlib.pyplot as plt\n",
    "import pandas as pd\n",
    "import seaborn as sns\n",
    "import numpy as np\n",
    "import plotly.express as px\n",
    "import pymysql"
   ]
  },
  {
   "cell_type": "code",
   "execution_count": 289,
   "id": "f6fc382d",
   "metadata": {},
   "outputs": [],
   "source": [
    "import warnings\n",
    "warnings.filterwarnings('ignore')"
   ]
  },
  {
   "cell_type": "raw",
   "id": "432346a5",
   "metadata": {},
   "source": [
    "db = mysql.connector.connect(\n",
    "        host='localhost',\n",
    "        user='root',\n",
    "        password='1234',\n",
    "        database='sprint4'\n",
    ")\n",
    "\n",
    "cursor = db.cursor()\n",
    "\n",
    "cursor.execute(\"show tables\")\n",
    "tablas=[x[0] for x in cursor.fetchall()]\n",
    "\n",
    "\n",
    "\n",
    "for tabla in tablas_mysql:\n",
    "    nombre_tabla = tabla[0]  # El fetchall trae tuplas, saco el nombre\n",
    "    dfs[f'df_{nombre_tabla}'] = pd.read_sql(f\"SELECT * FROM {nombre_tabla}\", con=conector)\n",
    "\n",
    "# Ver las claves\n",
    "print(dfs.keys())\n",
    "#para llamar a los df tengo que hacer dfs['df_nombre']\n",
    "\n",
    "cursor.close()\n",
    "db.close()\n",
    "\n",
    "# Imprimir los nombres de las tablas que se leyeron correctamente\n",
    "for x in dataframes:\n",
    "    print(x)"
   ]
  },
  {
   "cell_type": "code",
   "execution_count": 290,
   "id": "23147e1d",
   "metadata": {},
   "outputs": [
    {
     "name": "stdout",
     "output_type": "stream",
     "text": [
      "dict_keys(['df_actives_cards', 'df_companies', 'df_credit_cards', 'df_productos_vendidos', 'df_products', 'df_transactions', 'df_users'])\n"
     ]
    }
   ],
   "source": [
    "db = mysql.connector.connect(\n",
    "        host='localhost',\n",
    "        user='root',\n",
    "        password='1234',\n",
    "        database='sprint4'\n",
    ")\n",
    "\n",
    "cursor = db.cursor()\n",
    "\n",
    "# Traer todas las tablas de la base\n",
    "cursor.execute(\"SHOW TABLES\")\n",
    "tablas_mysql = cursor.fetchall()\n",
    "\n",
    "# Crear diccionario\n",
    "dfs = {}\n",
    "\n",
    "# Recorro las tablas dinámicamente\n",
    "for tabla in tablas_mysql:\n",
    "    nombre_tabla = tabla[0]  # El fetchall trae tuplas, saco el nombre\n",
    "    dfs[f'df_{nombre_tabla}'] = pd.read_sql(f\"SELECT * FROM {nombre_tabla}\", con=db)\n",
    "\n",
    "# Ver las claves\n",
    "print(dfs.keys())\n",
    "#para llamar a los df tengo que hacer dfs['df_nombre']"
   ]
  },
  {
   "cell_type": "markdown",
   "id": "61e0a47f",
   "metadata": {},
   "source": [
    "#compruebo que no haya duplicados:\n",
    "def data_info(df):\n",
    "   \n",
    "    \"\"\"Input: dataframe.\n",
    "    Function displays basic information, \n",
    "    checks for duplicates and NaN. \n",
    "    \"\"\"\n",
    "    \n",
    "    # get first and last 5 rows\n",
    "    display(df)\n",
    "    \n",
    "    # get information about the data\n",
    "    print()\n",
    "    print(df.info())\n",
    "    \n",
    "    # number of unique values for each column\n",
    "    print()\n",
    "    print('\\033[1mNumber of unique values')\n",
    "    display(df.nunique())\n",
    "    \n",
    "    # check for duplicates (without id columns)\n",
    "    print()\n",
    "    if df.iloc[:,1:].duplicated().sum() > 0:\n",
    "        print('Data contain full duplicates\\n')\n",
    "    else:\n",
    "        print('There are no full duplicates in the data\\n')\n",
    "    \n",
    "    # check for NaN\n",
    "    if df.isna().sum().sum() > 0:\n",
    "        print('Data contain NaN\\n')\n",
    "    else:\n",
    "        print('There are no NaNs in the data\\n')"
   ]
  },
  {
   "cell_type": "markdown",
   "id": "d20ac5ba",
   "metadata": {},
   "source": [
    "for tabel in dfs:\n",
    "    print(f'\\033[1m{tabel.upper()}')\n",
    "    print('_____________________')\n",
    "    data_info(dfs[tabel])"
   ]
  },
  {
   "cell_type": "code",
   "execution_count": 291,
   "id": "c48387a1",
   "metadata": {},
   "outputs": [
    {
     "data": {
      "text/html": [
       "<div>\n",
       "<style scoped>\n",
       "    .dataframe tbody tr th:only-of-type {\n",
       "        vertical-align: middle;\n",
       "    }\n",
       "\n",
       "    .dataframe tbody tr th {\n",
       "        vertical-align: top;\n",
       "    }\n",
       "\n",
       "    .dataframe thead th {\n",
       "        text-align: right;\n",
       "    }\n",
       "</style>\n",
       "<table border=\"1\" class=\"dataframe\">\n",
       "  <thead>\n",
       "    <tr style=\"text-align: right;\">\n",
       "      <th></th>\n",
       "      <th>id</th>\n",
       "      <th>product_name</th>\n",
       "      <th>price</th>\n",
       "      <th>colour</th>\n",
       "      <th>weight</th>\n",
       "      <th>warehouse_id</th>\n",
       "    </tr>\n",
       "  </thead>\n",
       "  <tbody>\n",
       "    <tr>\n",
       "      <th>0</th>\n",
       "      <td>1</td>\n",
       "      <td>Direwolf Stannis</td>\n",
       "      <td>$161.11</td>\n",
       "      <td>#7c7c7c</td>\n",
       "      <td>1.0</td>\n",
       "      <td>WH-4</td>\n",
       "    </tr>\n",
       "    <tr>\n",
       "      <th>1</th>\n",
       "      <td>10</td>\n",
       "      <td>Karstark Dorne</td>\n",
       "      <td>$119.52</td>\n",
       "      <td>#f4f4f4</td>\n",
       "      <td>2.4</td>\n",
       "      <td>WH--5</td>\n",
       "    </tr>\n",
       "    <tr>\n",
       "      <th>2</th>\n",
       "      <td>100</td>\n",
       "      <td>south duel</td>\n",
       "      <td>$40.43</td>\n",
       "      <td>#6d6d6d</td>\n",
       "      <td>3.0</td>\n",
       "      <td>WH--95</td>\n",
       "    </tr>\n",
       "    <tr>\n",
       "      <th>3</th>\n",
       "      <td>11</td>\n",
       "      <td>Karstark Dorne</td>\n",
       "      <td>$49.70</td>\n",
       "      <td>#141414</td>\n",
       "      <td>2.7</td>\n",
       "      <td>WH--6</td>\n",
       "    </tr>\n",
       "    <tr>\n",
       "      <th>4</th>\n",
       "      <td>12</td>\n",
       "      <td>duel Direwolf</td>\n",
       "      <td>$181.60</td>\n",
       "      <td>#a8a8a8</td>\n",
       "      <td>2.1</td>\n",
       "      <td>WH--7</td>\n",
       "    </tr>\n",
       "    <tr>\n",
       "      <th>...</th>\n",
       "      <td>...</td>\n",
       "      <td>...</td>\n",
       "      <td>...</td>\n",
       "      <td>...</td>\n",
       "      <td>...</td>\n",
       "      <td>...</td>\n",
       "    </tr>\n",
       "    <tr>\n",
       "      <th>95</th>\n",
       "      <td>95</td>\n",
       "      <td>riverlands north Direwolf</td>\n",
       "      <td>$6.90</td>\n",
       "      <td>#c1c1c1</td>\n",
       "      <td>2.7</td>\n",
       "      <td>WH--90</td>\n",
       "    </tr>\n",
       "    <tr>\n",
       "      <th>96</th>\n",
       "      <td>96</td>\n",
       "      <td>dooku solo</td>\n",
       "      <td>$20.92</td>\n",
       "      <td>#282828</td>\n",
       "      <td>2.1</td>\n",
       "      <td>WH--91</td>\n",
       "    </tr>\n",
       "    <tr>\n",
       "      <th>97</th>\n",
       "      <td>97</td>\n",
       "      <td>jinn Winterfell</td>\n",
       "      <td>$65.25</td>\n",
       "      <td>#bababa</td>\n",
       "      <td>1.0</td>\n",
       "      <td>WH--92</td>\n",
       "    </tr>\n",
       "    <tr>\n",
       "      <th>98</th>\n",
       "      <td>98</td>\n",
       "      <td>Direwolf Littlefinger</td>\n",
       "      <td>$38.33</td>\n",
       "      <td>#bababa</td>\n",
       "      <td>2.0</td>\n",
       "      <td>WH--93</td>\n",
       "    </tr>\n",
       "    <tr>\n",
       "      <th>99</th>\n",
       "      <td>99</td>\n",
       "      <td>the duel</td>\n",
       "      <td>$151.78</td>\n",
       "      <td>#212121</td>\n",
       "      <td>1.5</td>\n",
       "      <td>WH--94</td>\n",
       "    </tr>\n",
       "  </tbody>\n",
       "</table>\n",
       "<p>100 rows × 6 columns</p>\n",
       "</div>"
      ],
      "text/plain": [
       "     id               product_name    price   colour  weight warehouse_id\n",
       "0     1           Direwolf Stannis  $161.11  #7c7c7c     1.0         WH-4\n",
       "1    10             Karstark Dorne  $119.52  #f4f4f4     2.4        WH--5\n",
       "2   100                 south duel   $40.43  #6d6d6d     3.0       WH--95\n",
       "3    11             Karstark Dorne   $49.70  #141414     2.7        WH--6\n",
       "4    12              duel Direwolf  $181.60  #a8a8a8     2.1        WH--7\n",
       "..  ...                        ...      ...      ...     ...          ...\n",
       "95   95  riverlands north Direwolf    $6.90  #c1c1c1     2.7       WH--90\n",
       "96   96                 dooku solo   $20.92  #282828     2.1       WH--91\n",
       "97   97            jinn Winterfell   $65.25  #bababa     1.0       WH--92\n",
       "98   98      Direwolf Littlefinger   $38.33  #bababa     2.0       WH--93\n",
       "99   99                   the duel  $151.78  #212121     1.5       WH--94\n",
       "\n",
       "[100 rows x 6 columns]"
      ]
     },
     "execution_count": 291,
     "metadata": {},
     "output_type": "execute_result"
    }
   ],
   "source": [
    "dfs['df_products']"
   ]
  },
  {
   "cell_type": "markdown",
   "id": "a6ef0161",
   "metadata": {},
   "source": [
    "## LIMPIO"
   ]
  },
  {
   "cell_type": "code",
   "execution_count": 292,
   "id": "82087e32",
   "metadata": {},
   "outputs": [
    {
     "data": {
      "text/html": [
       "<div>\n",
       "<style scoped>\n",
       "    .dataframe tbody tr th:only-of-type {\n",
       "        vertical-align: middle;\n",
       "    }\n",
       "\n",
       "    .dataframe tbody tr th {\n",
       "        vertical-align: top;\n",
       "    }\n",
       "\n",
       "    .dataframe thead th {\n",
       "        text-align: right;\n",
       "    }\n",
       "</style>\n",
       "<table border=\"1\" class=\"dataframe\">\n",
       "  <thead>\n",
       "    <tr style=\"text-align: right;\">\n",
       "      <th></th>\n",
       "      <th>id</th>\n",
       "      <th>product_name</th>\n",
       "      <th>price</th>\n",
       "      <th>colour</th>\n",
       "      <th>weight</th>\n",
       "      <th>warehouse_id</th>\n",
       "    </tr>\n",
       "  </thead>\n",
       "  <tbody>\n",
       "    <tr>\n",
       "      <th>0</th>\n",
       "      <td>1</td>\n",
       "      <td>Direwolf Stannis</td>\n",
       "      <td>161.11</td>\n",
       "      <td>#7c7c7c</td>\n",
       "      <td>1.0</td>\n",
       "      <td>WH-4</td>\n",
       "    </tr>\n",
       "    <tr>\n",
       "      <th>1</th>\n",
       "      <td>10</td>\n",
       "      <td>Karstark Dorne</td>\n",
       "      <td>119.52</td>\n",
       "      <td>#f4f4f4</td>\n",
       "      <td>2.4</td>\n",
       "      <td>WH--5</td>\n",
       "    </tr>\n",
       "    <tr>\n",
       "      <th>2</th>\n",
       "      <td>100</td>\n",
       "      <td>south duel</td>\n",
       "      <td>40.43</td>\n",
       "      <td>#6d6d6d</td>\n",
       "      <td>3.0</td>\n",
       "      <td>WH--95</td>\n",
       "    </tr>\n",
       "    <tr>\n",
       "      <th>3</th>\n",
       "      <td>11</td>\n",
       "      <td>Karstark Dorne</td>\n",
       "      <td>49.70</td>\n",
       "      <td>#141414</td>\n",
       "      <td>2.7</td>\n",
       "      <td>WH--6</td>\n",
       "    </tr>\n",
       "    <tr>\n",
       "      <th>4</th>\n",
       "      <td>12</td>\n",
       "      <td>duel Direwolf</td>\n",
       "      <td>181.60</td>\n",
       "      <td>#a8a8a8</td>\n",
       "      <td>2.1</td>\n",
       "      <td>WH--7</td>\n",
       "    </tr>\n",
       "  </tbody>\n",
       "</table>\n",
       "</div>"
      ],
      "text/plain": [
       "    id      product_name   price   colour  weight warehouse_id\n",
       "0    1  Direwolf Stannis  161.11  #7c7c7c     1.0         WH-4\n",
       "1   10    Karstark Dorne  119.52  #f4f4f4     2.4        WH--5\n",
       "2  100        south duel   40.43  #6d6d6d     3.0       WH--95\n",
       "3   11    Karstark Dorne   49.70  #141414     2.7        WH--6\n",
       "4   12     duel Direwolf  181.60  #a8a8a8     2.1        WH--7"
      ]
     },
     "execution_count": 292,
     "metadata": {},
     "output_type": "execute_result"
    }
   ],
   "source": [
    "# Elimino de la tabla products el dolar en la columna 'price' y la transformo en float\n",
    "# Eliminar el símbolo '$' y convertir a float, manejando posibles valores nulos o errores\n",
    "dfs['df_products']['price'] = dfs['df_products']['price'].str.replace('$', '', regex=False).astype(float)\n",
    "dfs['df_products'].head()\n"
   ]
  },
  {
   "cell_type": "code",
   "execution_count": 293,
   "id": "fc6138e5",
   "metadata": {},
   "outputs": [
    {
     "name": "stdout",
     "output_type": "stream",
     "text": [
      "0    39\n",
      "1    41\n",
      "2    35\n",
      "3    42\n",
      "4    43\n",
      "Name: edad, dtype: int64\n",
      "    id     name   surname           phone                         email  \\\n",
      "0    1     Zeus    Gamble  1-282-581-0551  interdum.enim@protonmail.edu   \n",
      "1   10   Robert  Mccarthy  (324) 746-6771      fermentum@protonmail.com   \n",
      "2  100  Melodie    Mclean  1-677-221-7152        risus.varius@google.ca   \n",
      "3  101    Sarah      Beck  (358) 691-4345          vitae.risus@aol.couk   \n",
      "4  102   Jasper    Landry  1-397-765-1118  consectetuer.euismod@aol.org   \n",
      "\n",
      "  birth_date        country         city postal_code  \\\n",
      "0 1985-11-17  United States       Lowell       73544   \n",
      "1 1984-04-30  United States       Eugene       85526   \n",
      "2 1989-09-15  United States      College       11838   \n",
      "3 1983-04-09  United States  Great Falls       67129   \n",
      "4 1982-04-16  United States     Columbus       11595   \n",
      "\n",
      "                         address  edad  \n",
      "0          348-7818 Sagittis St.    39  \n",
      "1  P.O. Box 773, 3594 Ornare St.    41  \n",
      "2      Ap #644-8492 Sagittis St.    35  \n",
      "3               665-9047 In, Rd.    42  \n",
      "4       Ap #374-7325 Sodales Rd.    43  \n"
     ]
    }
   ],
   "source": [
    "# Convertimos 'birth_day' a tipo datetime, como en powerbi\n",
    "dfs['df_users']['birth_date'] = pd.to_datetime(dfs['df_users']['birth_date'])\n",
    "\n",
    "# Función para calcular la edad\n",
    "from datetime import date\n",
    "\n",
    "def calculo_edad(birth_date):\n",
    "    today = date.today()  # Fecha actual\n",
    "    return today.year - birth_date.year - ((today.month, today.day) < (birth_date.month, birth_date.day)) \n",
    "# Creamos la columna 'edad'\n",
    "dfs['df_users']['edad'] = dfs['df_users']['birth_date'].apply(calculo_edad)\n",
    "\n",
    "print(dfs['df_users']['edad'].head())\n",
    "\n",
    "print(dfs['df_users'].head())\n"
   ]
  },
  {
   "cell_type": "code",
   "execution_count": 294,
   "id": "b6da9832",
   "metadata": {},
   "outputs": [
    {
     "name": "stdout",
     "output_type": "stream",
     "text": [
      "<class 'pandas.core.series.Series'>\n",
      "RangeIndex: 587 entries, 0 to 586\n",
      "Series name: fecha\n",
      "Non-Null Count  Dtype         \n",
      "--------------  -----         \n",
      "587 non-null    datetime64[ns]\n",
      "dtypes: datetime64[ns](1)\n",
      "memory usage: 4.7 KB\n"
     ]
    },
    {
     "data": {
      "text/plain": [
       "0       Saturday\n",
       "1         Monday\n",
       "2       Thursday\n",
       "3      Wednesday\n",
       "4        Tuesday\n",
       "         ...    \n",
       "582       Sunday\n",
       "583    Wednesday\n",
       "584       Sunday\n",
       "585      Tuesday\n",
       "586      Tuesday\n",
       "Name: Day, Length: 587, dtype: object"
      ]
     },
     "execution_count": 294,
     "metadata": {},
     "output_type": "execute_result"
    }
   ],
   "source": [
    "#crear columna año y día de la semana, como power bi:\n",
    "#creamos columna fecha y la convierto en formato datetime\n",
    "dfs['df_transactions']['fecha'] = dfs['df_transactions']['timestamp'].dt.date\n",
    "\n",
    "dfs['df_transactions']['fecha'] = pd.to_datetime(dfs['df_transactions']['fecha'])\n",
    "\n",
    "dfs['df_transactions']['fecha'].info()\n",
    "\n",
    "\n",
    "#columna year\n",
    "dfs['df_transactions']['Year'] = dfs['df_transactions']['fecha'].dt.strftime('%Y')\n",
    "\n",
    "dfs['df_transactions']['Year']\n",
    "\n",
    "#columna día de la semana\n",
    "dfs['df_transactions']['Day'] =  dfs['df_transactions']['fecha'].dt.strftime('%A')\n",
    "\n",
    "dfs['df_transactions']['Day'] \n"
   ]
  },
  {
   "cell_type": "code",
   "execution_count": 295,
   "id": "09edae78",
   "metadata": {},
   "outputs": [
    {
     "data": {
      "text/html": [
       "<div>\n",
       "<style scoped>\n",
       "    .dataframe tbody tr th:only-of-type {\n",
       "        vertical-align: middle;\n",
       "    }\n",
       "\n",
       "    .dataframe tbody tr th {\n",
       "        vertical-align: top;\n",
       "    }\n",
       "\n",
       "    .dataframe thead th {\n",
       "        text-align: right;\n",
       "    }\n",
       "</style>\n",
       "<table border=\"1\" class=\"dataframe\">\n",
       "  <thead>\n",
       "    <tr style=\"text-align: right;\">\n",
       "      <th></th>\n",
       "      <th>company_id</th>\n",
       "      <th>company_name</th>\n",
       "      <th>phone</th>\n",
       "      <th>email</th>\n",
       "      <th>country</th>\n",
       "      <th>website</th>\n",
       "    </tr>\n",
       "  </thead>\n",
       "  <tbody>\n",
       "    <tr>\n",
       "      <th>0</th>\n",
       "      <td>b-2222</td>\n",
       "      <td>Ac Fermentum Incorporated</td>\n",
       "      <td>06 85 56 52 33</td>\n",
       "      <td>donec.porttitor.tellus@yahoo.net</td>\n",
       "      <td>Germany</td>\n",
       "      <td>https://instagram.com/site</td>\n",
       "    </tr>\n",
       "    <tr>\n",
       "      <th>1</th>\n",
       "      <td>b-2226</td>\n",
       "      <td>Magna A Neque Industries</td>\n",
       "      <td>04 14 44 64 62</td>\n",
       "      <td>risus.donec.nibh@icloud.org</td>\n",
       "      <td>Australia</td>\n",
       "      <td>https://whatsapp.com/group/9</td>\n",
       "    </tr>\n",
       "    <tr>\n",
       "      <th>2</th>\n",
       "      <td>b-2230</td>\n",
       "      <td>Fusce Corp.</td>\n",
       "      <td>08 14 97 58 85</td>\n",
       "      <td>risus@protonmail.edu</td>\n",
       "      <td>United States</td>\n",
       "      <td>https://pinterest.com/sub/cars</td>\n",
       "    </tr>\n",
       "    <tr>\n",
       "      <th>3</th>\n",
       "      <td>b-2234</td>\n",
       "      <td>Convallis In Incorporated</td>\n",
       "      <td>06 66 57 29 50</td>\n",
       "      <td>mauris.ut@aol.couk</td>\n",
       "      <td>Germany</td>\n",
       "      <td>https://cnn.com/user/110</td>\n",
       "    </tr>\n",
       "    <tr>\n",
       "      <th>4</th>\n",
       "      <td>b-2238</td>\n",
       "      <td>Ante Iaculis Nec Foundation</td>\n",
       "      <td>08 23 04 99 53</td>\n",
       "      <td>sed.dictum.proin@outlook.ca</td>\n",
       "      <td>New Zealand</td>\n",
       "      <td>https://netflix.com/settings</td>\n",
       "    </tr>\n",
       "    <tr>\n",
       "      <th>...</th>\n",
       "      <td>...</td>\n",
       "      <td>...</td>\n",
       "      <td>...</td>\n",
       "      <td>...</td>\n",
       "      <td>...</td>\n",
       "      <td>...</td>\n",
       "    </tr>\n",
       "    <tr>\n",
       "      <th>95</th>\n",
       "      <td>b-2602</td>\n",
       "      <td>Placerat LLP</td>\n",
       "      <td>05 43 67 24 41</td>\n",
       "      <td>tellus.suspendisse@hotmail.org</td>\n",
       "      <td>Netherlands</td>\n",
       "      <td>https://zoom.us/sub</td>\n",
       "    </tr>\n",
       "    <tr>\n",
       "      <th>96</th>\n",
       "      <td>b-2606</td>\n",
       "      <td>Sed Est Corp.</td>\n",
       "      <td>04 58 02 37 91</td>\n",
       "      <td>tempor.bibendum@google.couk</td>\n",
       "      <td>Canada</td>\n",
       "      <td>https://instagram.com/sub/cars</td>\n",
       "    </tr>\n",
       "    <tr>\n",
       "      <th>97</th>\n",
       "      <td>b-2610</td>\n",
       "      <td>Egestas Nunc Sed Limited</td>\n",
       "      <td>06 01 02 70 47</td>\n",
       "      <td>vitae@hotmail.edu</td>\n",
       "      <td>Italy</td>\n",
       "      <td>https://walmart.com/one</td>\n",
       "    </tr>\n",
       "    <tr>\n",
       "      <th>98</th>\n",
       "      <td>b-2614</td>\n",
       "      <td>Rutrum Non Inc.</td>\n",
       "      <td>02 66 31 61 09</td>\n",
       "      <td>neque@protonmail.net</td>\n",
       "      <td>Germany</td>\n",
       "      <td>https://netflix.com/site</td>\n",
       "    </tr>\n",
       "    <tr>\n",
       "      <th>99</th>\n",
       "      <td>b-2618</td>\n",
       "      <td>Non Institute</td>\n",
       "      <td>06 77 15 31 14</td>\n",
       "      <td>amet.metus@protonmail.couk</td>\n",
       "      <td>United Kingdom</td>\n",
       "      <td>https://guardian.co.uk/settings</td>\n",
       "    </tr>\n",
       "  </tbody>\n",
       "</table>\n",
       "<p>100 rows × 6 columns</p>\n",
       "</div>"
      ],
      "text/plain": [
       "   company_id                 company_name           phone  \\\n",
       "0      b-2222    Ac Fermentum Incorporated  06 85 56 52 33   \n",
       "1      b-2226     Magna A Neque Industries  04 14 44 64 62   \n",
       "2      b-2230                  Fusce Corp.  08 14 97 58 85   \n",
       "3      b-2234    Convallis In Incorporated  06 66 57 29 50   \n",
       "4      b-2238  Ante Iaculis Nec Foundation  08 23 04 99 53   \n",
       "..        ...                          ...             ...   \n",
       "95     b-2602                 Placerat LLP  05 43 67 24 41   \n",
       "96     b-2606                Sed Est Corp.  04 58 02 37 91   \n",
       "97     b-2610     Egestas Nunc Sed Limited  06 01 02 70 47   \n",
       "98     b-2614              Rutrum Non Inc.  02 66 31 61 09   \n",
       "99     b-2618                Non Institute  06 77 15 31 14   \n",
       "\n",
       "                               email         country  \\\n",
       "0   donec.porttitor.tellus@yahoo.net         Germany   \n",
       "1        risus.donec.nibh@icloud.org       Australia   \n",
       "2               risus@protonmail.edu   United States   \n",
       "3                 mauris.ut@aol.couk         Germany   \n",
       "4        sed.dictum.proin@outlook.ca     New Zealand   \n",
       "..                               ...             ...   \n",
       "95    tellus.suspendisse@hotmail.org     Netherlands   \n",
       "96       tempor.bibendum@google.couk          Canada   \n",
       "97                 vitae@hotmail.edu           Italy   \n",
       "98              neque@protonmail.net         Germany   \n",
       "99        amet.metus@protonmail.couk  United Kingdom   \n",
       "\n",
       "                            website  \n",
       "0        https://instagram.com/site  \n",
       "1      https://whatsapp.com/group/9  \n",
       "2    https://pinterest.com/sub/cars  \n",
       "3          https://cnn.com/user/110  \n",
       "4      https://netflix.com/settings  \n",
       "..                              ...  \n",
       "95              https://zoom.us/sub  \n",
       "96   https://instagram.com/sub/cars  \n",
       "97          https://walmart.com/one  \n",
       "98         https://netflix.com/site  \n",
       "99  https://guardian.co.uk/settings  \n",
       "\n",
       "[100 rows x 6 columns]"
      ]
     },
     "execution_count": 295,
     "metadata": {},
     "output_type": "execute_result"
    }
   ],
   "source": [
    "dfs['df_companies']['phone'] = dfs['df_companies']['phone'].astype(str)\n",
    "dfs['df_companies']"
   ]
  },
  {
   "cell_type": "code",
   "execution_count": 296,
   "id": "ebe07f5a",
   "metadata": {},
   "outputs": [],
   "source": [
    "dfs['df_companies']['country'] = dfs['df_companies']['country'].astype('str')\n",
    "dfs['df_companies']['website'] = dfs['df_companies']['website'].astype('str')\n",
    "dfs['df_companies']['email'] = dfs ['df_companies']['email'].astype('str')\n",
    "dfs['df_companies']['company_name'] = dfs['df_companies']['company_name'].astype('str')\n",
    "dfs['df_companies']['company_id'] = dfs['df_companies']['company_id'].str.replace('b-', '').astype('str')\n",
    "dfs['df_transactions']['business_id'] = dfs['df_transactions']['business_id'].str.replace('b-', '')"
   ]
  },
  {
   "cell_type": "code",
   "execution_count": 297,
   "id": "bcf375bb",
   "metadata": {},
   "outputs": [
    {
     "name": "stdout",
     "output_type": "stream",
     "text": [
      "<class 'pandas.core.frame.DataFrame'>\n",
      "RangeIndex: 100 entries, 0 to 99\n",
      "Data columns (total 6 columns):\n",
      " #   Column        Non-Null Count  Dtype \n",
      "---  ------        --------------  ----- \n",
      " 0   company_id    100 non-null    object\n",
      " 1   company_name  100 non-null    object\n",
      " 2   phone         100 non-null    object\n",
      " 3   email         100 non-null    object\n",
      " 4   country       100 non-null    object\n",
      " 5   website       100 non-null    object\n",
      "dtypes: object(6)\n",
      "memory usage: 4.8+ KB\n",
      "<class 'pandas.core.frame.DataFrame'>\n",
      "Index: 0 entries\n",
      "Data columns (total 2 columns):\n",
      " #   Column    Non-Null Count  Dtype \n",
      "---  ------    --------------  ----- \n",
      " 0   card_id   0 non-null      object\n",
      " 1   declined  0 non-null      object\n",
      "dtypes: object(2)\n",
      "memory usage: 0.0+ bytes\n",
      "<class 'pandas.core.frame.DataFrame'>\n",
      "RangeIndex: 275 entries, 0 to 274\n",
      "Data columns (total 9 columns):\n",
      " #   Column         Non-Null Count  Dtype \n",
      "---  ------         --------------  ----- \n",
      " 0   id             275 non-null    object\n",
      " 1   user_id        275 non-null    object\n",
      " 2   iban           275 non-null    object\n",
      " 3   pan            275 non-null    object\n",
      " 4   pin            275 non-null    object\n",
      " 5   cvv            275 non-null    object\n",
      " 6   track1         275 non-null    object\n",
      " 7   track2         275 non-null    object\n",
      " 8   expiring_date  275 non-null    object\n",
      "dtypes: object(9)\n",
      "memory usage: 19.5+ KB\n",
      "<class 'pandas.core.frame.DataFrame'>\n",
      "RangeIndex: 1457 entries, 0 to 1456\n",
      "Data columns (total 2 columns):\n",
      " #   Column          Non-Null Count  Dtype \n",
      "---  ------          --------------  ----- \n",
      " 0   transaction_id  1457 non-null   object\n",
      " 1   product_id      1457 non-null   object\n",
      "dtypes: object(2)\n",
      "memory usage: 22.9+ KB\n",
      "<class 'pandas.core.frame.DataFrame'>\n",
      "RangeIndex: 100 entries, 0 to 99\n",
      "Data columns (total 6 columns):\n",
      " #   Column        Non-Null Count  Dtype  \n",
      "---  ------        --------------  -----  \n",
      " 0   id            100 non-null    object \n",
      " 1   product_name  100 non-null    object \n",
      " 2   price         100 non-null    float64\n",
      " 3   colour        100 non-null    object \n",
      " 4   weight        100 non-null    float64\n",
      " 5   warehouse_id  100 non-null    object \n",
      "dtypes: float64(2), object(4)\n",
      "memory usage: 4.8+ KB\n",
      "<class 'pandas.core.frame.DataFrame'>\n",
      "RangeIndex: 587 entries, 0 to 586\n",
      "Data columns (total 13 columns):\n",
      " #   Column       Non-Null Count  Dtype         \n",
      "---  ------       --------------  -----         \n",
      " 0   id           587 non-null    object        \n",
      " 1   card_id      587 non-null    object        \n",
      " 2   business_id  587 non-null    object        \n",
      " 3   timestamp    587 non-null    datetime64[ns]\n",
      " 4   amount       587 non-null    float64       \n",
      " 5   declined     587 non-null    int64         \n",
      " 6   product_ids  587 non-null    object        \n",
      " 7   user_id      587 non-null    object        \n",
      " 8   lat          587 non-null    object        \n",
      " 9   longitude    587 non-null    object        \n",
      " 10  fecha        587 non-null    datetime64[ns]\n",
      " 11  Year         587 non-null    object        \n",
      " 12  Day          587 non-null    object        \n",
      "dtypes: datetime64[ns](2), float64(1), int64(1), object(9)\n",
      "memory usage: 59.7+ KB\n",
      "<class 'pandas.core.frame.DataFrame'>\n",
      "RangeIndex: 275 entries, 0 to 274\n",
      "Data columns (total 11 columns):\n",
      " #   Column       Non-Null Count  Dtype         \n",
      "---  ------       --------------  -----         \n",
      " 0   id           275 non-null    object        \n",
      " 1   name         275 non-null    object        \n",
      " 2   surname      275 non-null    object        \n",
      " 3   phone        275 non-null    object        \n",
      " 4   email        275 non-null    object        \n",
      " 5   birth_date   275 non-null    datetime64[ns]\n",
      " 6   country      275 non-null    object        \n",
      " 7   city         275 non-null    object        \n",
      " 8   postal_code  275 non-null    object        \n",
      " 9   address      275 non-null    object        \n",
      " 10  edad         275 non-null    int64         \n",
      "dtypes: datetime64[ns](1), int64(1), object(9)\n",
      "memory usage: 23.8+ KB\n"
     ]
    }
   ],
   "source": [
    "dfs['df_companies'].info()\n",
    "dfs['df_actives_cards'].info()\n",
    "dfs['df_credit_cards'].info()\n",
    "dfs['df_productos_vendidos'].info() \n",
    "dfs['df_products'].info() \n",
    "dfs['df_transactions'].info() \n",
    "dfs['df_users'].info()"
   ]
  },
  {
   "cell_type": "code",
   "execution_count": 298,
   "id": "2e0e6295",
   "metadata": {},
   "outputs": [],
   "source": [
    "dfs['df_transactions']['declined'] = dfs['df_transactions']['declined'].astype(int).astype(bool)"
   ]
  },
  {
   "cell_type": "code",
   "execution_count": 299,
   "id": "f93a1640",
   "metadata": {},
   "outputs": [
    {
     "name": "stdout",
     "output_type": "stream",
     "text": [
      "<class 'pandas.core.frame.DataFrame'>\n",
      "RangeIndex: 587 entries, 0 to 586\n",
      "Data columns (total 13 columns):\n",
      " #   Column       Non-Null Count  Dtype         \n",
      "---  ------       --------------  -----         \n",
      " 0   id           587 non-null    object        \n",
      " 1   card_id      587 non-null    object        \n",
      " 2   business_id  587 non-null    object        \n",
      " 3   timestamp    587 non-null    datetime64[ns]\n",
      " 4   amount       587 non-null    float64       \n",
      " 5   declined     587 non-null    bool          \n",
      " 6   product_ids  587 non-null    object        \n",
      " 7   user_id      587 non-null    object        \n",
      " 8   lat          587 non-null    object        \n",
      " 9   longitude    587 non-null    object        \n",
      " 10  fecha        587 non-null    datetime64[ns]\n",
      " 11  Year         587 non-null    object        \n",
      " 12  Day          587 non-null    object        \n",
      "dtypes: bool(1), datetime64[ns](2), float64(1), object(9)\n",
      "memory usage: 55.7+ KB\n"
     ]
    }
   ],
   "source": [
    "dfs['df_transactions'].info()"
   ]
  },
  {
   "cell_type": "markdown",
   "id": "182d16a2",
   "metadata": {},
   "source": [
    "### EXERCICI 1\n",
    "Una variable numérica:\n"
   ]
  },
  {
   "cell_type": "code",
   "execution_count": 300,
   "id": "4ed5ee69",
   "metadata": {},
   "outputs": [
    {
     "data": {
      "image/png": "[encoded data removed]",
      "text/plain": [
       "<Figure size 432x288 with 1 Axes>"
      ]
     },
     "metadata": {},
     "output_type": "display_data"
    }
   ],
   "source": [
    "dfs['df_transactions']['amount'].head(10).plot(kind='bar', title='Top 10 Amounts in Transaction', color='green')\n",
    "plt.show()"
   ]
  },
  {
   "cell_type": "markdown",
   "id": "e1451b41",
   "metadata": {},
   "source": [
    "### EXERCICI 2\n",
    "dos variables numericas"
   ]
  },
  {
   "cell_type": "code",
   "execution_count": 301,
   "id": "0e59c32f",
   "metadata": {},
   "outputs": [
    {
     "data": {
      "image/png": "[encoded data removed]",
      "text/plain": [
       "<Figure size 432x288 with 1 Axes>"
      ]
     },
     "metadata": {},
     "output_type": "display_data"
    }
   ],
   "source": [
    "precio = dfs['df_products']['price']\n",
    "peso = dfs['df_products']['weight']\n",
    "\n",
    "plt.scatter(x=precio, y=peso, color='blue')\n",
    "plt.xlabel('Precio Producto')\n",
    "plt.ylabel('Peso')\n",
    "plt.title(\"Peso VS Precio\")\n",
    "plt.show()\n"
   ]
  },
  {
   "cell_type": "markdown",
   "id": "c83307ce",
   "metadata": {},
   "source": [
    "### EXERCICI 3\n",
    "Una variable categòrica"
   ]
  },
  {
   "cell_type": "code",
   "execution_count": 302,
   "id": "63866979",
   "metadata": {},
   "outputs": [
    {
     "data": {
      "image/png": "[encoded data removed]",
      "text/plain": [
       "<Figure size 576x432 with 1 Axes>"
      ]
     },
     "metadata": {},
     "output_type": "display_data"
    }
   ],
   "source": [
    "order = dfs['df_users']['country'].value_counts().index\n",
    "\n",
    "plt.figure(figsize = (8,6))\n",
    "ax = sns.countplot(data=dfs['df_users'], x=\"country\", order=order)\n",
    "ax.set_xlabel('')\n",
    "ax.set_ylabel('Conteo')\n",
    "ax.set_title('Cantidad de Usuarios por País ')\n",
    "\n",
    "for p in ax.patches:\n",
    "    ax.annotate(f'{int(p.get_height())}',\n",
    "                (p.get_x() + p.get_width() / 2., p.get_height()), \n",
    "                ha='center', va='baseline', \n",
    "                fontsize=10, color='black', xytext=(0, 5), \n",
    "                textcoords='offset points')\n",
    "\n",
    "plt.show()\n"
   ]
  },
  {
   "cell_type": "markdown",
   "id": "210673c9",
   "metadata": {},
   "source": [
    "### EXERCICI 4\n",
    "Una variable categòrica i una numèrica:"
   ]
  },
  {
   "cell_type": "code",
   "execution_count": 303,
   "id": "82aed09b",
   "metadata": {},
   "outputs": [
    {
     "name": "stdout",
     "output_type": "stream",
     "text": [
      "  business_id company_id           company_name country\n",
      "0        2362       2362  Lorem Eu Incorporated  Canada\n",
      "1        2362       2362  Lorem Eu Incorporated  Canada\n",
      "2        2362       2362  Lorem Eu Incorporated  Canada\n",
      "3        2362       2362  Lorem Eu Incorporated  Canada\n",
      "4        2362       2362  Lorem Eu Incorporated  Canada\n"
     ]
    }
   ],
   "source": [
    "#Ingresos por país:\n",
    "\n",
    "#merge\n",
    "transactions_companies = dfs['df_transactions'].merge(dfs['df_companies'], left_on='business_id', right_on='company_id')\n",
    "\n",
    "print(transactions_companies[['business_id', 'company_id', 'company_name', 'country']].head())\n",
    "\n"
   ]
  },
  {
   "cell_type": "code",
   "execution_count": 304,
   "id": "1355b852",
   "metadata": {},
   "outputs": [
    {
     "name": "stdout",
     "output_type": "stream",
     "text": [
      "['2362' '2302' '2250' '2618' '2346']\n",
      "['2222' '2226' '2230' '2234' '2238']\n"
     ]
    }
   ],
   "source": [
    "print(dfs['df_transactions']['business_id'].unique()[:5])\n",
    "print(dfs['df_companies']['company_id'].unique()[:5])"
   ]
  },
  {
   "cell_type": "code",
   "execution_count": 305,
   "id": "ae2a8890",
   "metadata": {},
   "outputs": [
    {
     "name": "stdout",
     "output_type": "stream",
     "text": [
      "  business_id company_id                  company_name         country\n",
      "0        2362       2362         Lorem Eu Incorporated          Canada\n",
      "1        2302       2302    Nunc Interdum Incorporated         Germany\n",
      "2        2250       2250  Amet Nulla Donec Corporation           Italy\n",
      "3        2618       2618                 Non Institute  United Kingdom\n",
      "4        2346       2346          Ut Semper Foundation          Sweden\n"
     ]
    }
   ],
   "source": [
    "transactions_companies = dfs['df_transactions'].merge(dfs['df_companies'], left_on='business_id', right_on='company_id', \n",
    "                                                      how='left')\n",
    "\n",
    "print(transactions_companies[['business_id', 'company_id', 'company_name', 'country']].head())\n"
   ]
  },
  {
   "cell_type": "code",
   "execution_count": 306,
   "id": "7355d42f",
   "metadata": {},
   "outputs": [
    {
     "data": {
      "text/html": [
       "<div>\n",
       "<style scoped>\n",
       "    .dataframe tbody tr th:only-of-type {\n",
       "        vertical-align: middle;\n",
       "    }\n",
       "\n",
       "    .dataframe tbody tr th {\n",
       "        vertical-align: top;\n",
       "    }\n",
       "\n",
       "    .dataframe thead th {\n",
       "        text-align: right;\n",
       "    }\n",
       "</style>\n",
       "<table border=\"1\" class=\"dataframe\">\n",
       "  <thead>\n",
       "    <tr style=\"text-align: right;\">\n",
       "      <th></th>\n",
       "      <th>id</th>\n",
       "      <th>card_id</th>\n",
       "      <th>business_id</th>\n",
       "      <th>timestamp</th>\n",
       "      <th>amount</th>\n",
       "      <th>declined</th>\n",
       "      <th>product_ids</th>\n",
       "      <th>user_id</th>\n",
       "      <th>lat</th>\n",
       "      <th>longitude</th>\n",
       "      <th>fecha</th>\n",
       "      <th>Year</th>\n",
       "      <th>Day</th>\n",
       "      <th>company_id</th>\n",
       "      <th>country</th>\n",
       "    </tr>\n",
       "  </thead>\n",
       "  <tbody>\n",
       "    <tr>\n",
       "      <th>0</th>\n",
       "      <td>02C6201E-D90A-1859-B4EE-88D2986D3B02</td>\n",
       "      <td>CcU-2938</td>\n",
       "      <td>2362</td>\n",
       "      <td>2021-08-28 23:42:24</td>\n",
       "      <td>466.92</td>\n",
       "      <td>False</td>\n",
       "      <td>71, 1, 19</td>\n",
       "      <td>92</td>\n",
       "      <td>81.9184589824</td>\n",
       "      <td>-12.5275561984</td>\n",
       "      <td>2021-08-28</td>\n",
       "      <td>2021</td>\n",
       "      <td>Saturday</td>\n",
       "      <td>2362</td>\n",
       "      <td>Canada</td>\n",
       "    </tr>\n",
       "    <tr>\n",
       "      <th>1</th>\n",
       "      <td>0466A42E-47CF-8D24-FD01-C0B689713128</td>\n",
       "      <td>CcU-4219</td>\n",
       "      <td>2302</td>\n",
       "      <td>2021-07-26 07:29:18</td>\n",
       "      <td>49.53</td>\n",
       "      <td>False</td>\n",
       "      <td>47, 97, 43</td>\n",
       "      <td>170</td>\n",
       "      <td>-43.9694885888</td>\n",
       "      <td>-117.5251835904</td>\n",
       "      <td>2021-07-26</td>\n",
       "      <td>2021</td>\n",
       "      <td>Monday</td>\n",
       "      <td>2302</td>\n",
       "      <td>Germany</td>\n",
       "    </tr>\n",
       "    <tr>\n",
       "      <th>2</th>\n",
       "      <td>063FBA79-99EC-66FB-29F7-25726D1764A5</td>\n",
       "      <td>CcU-2987</td>\n",
       "      <td>2250</td>\n",
       "      <td>2022-01-06 21:25:27</td>\n",
       "      <td>92.61</td>\n",
       "      <td>False</td>\n",
       "      <td>47, 67, 31, 5</td>\n",
       "      <td>275</td>\n",
       "      <td>-81.222680576</td>\n",
       "      <td>-129.049879552</td>\n",
       "      <td>2022-01-06</td>\n",
       "      <td>2022</td>\n",
       "      <td>Thursday</td>\n",
       "      <td>2250</td>\n",
       "      <td>Italy</td>\n",
       "    </tr>\n",
       "    <tr>\n",
       "      <th>3</th>\n",
       "      <td>0668296C-CDB9-A883-76BC-2E4C44F8C8AE</td>\n",
       "      <td>CcU-3743</td>\n",
       "      <td>2618</td>\n",
       "      <td>2022-01-26 02:07:14</td>\n",
       "      <td>394.18</td>\n",
       "      <td>False</td>\n",
       "      <td>89, 83, 79</td>\n",
       "      <td>265</td>\n",
       "      <td>-34.3593055232</td>\n",
       "      <td>-100.555928064</td>\n",
       "      <td>2022-01-26</td>\n",
       "      <td>2022</td>\n",
       "      <td>Wednesday</td>\n",
       "      <td>2618</td>\n",
       "      <td>United Kingdom</td>\n",
       "    </tr>\n",
       "    <tr>\n",
       "      <th>4</th>\n",
       "      <td>06CD9AA5-9B42-D684-DDDD-A5E394FEBA99</td>\n",
       "      <td>CcU-2959</td>\n",
       "      <td>2346</td>\n",
       "      <td>2021-10-26 23:00:01</td>\n",
       "      <td>279.93</td>\n",
       "      <td>False</td>\n",
       "      <td>43, 31</td>\n",
       "      <td>92</td>\n",
       "      <td>33.7381445632</td>\n",
       "      <td>158.298210304</td>\n",
       "      <td>2021-10-26</td>\n",
       "      <td>2021</td>\n",
       "      <td>Tuesday</td>\n",
       "      <td>2346</td>\n",
       "      <td>Sweden</td>\n",
       "    </tr>\n",
       "    <tr>\n",
       "      <th>...</th>\n",
       "      <td>...</td>\n",
       "      <td>...</td>\n",
       "      <td>...</td>\n",
       "      <td>...</td>\n",
       "      <td>...</td>\n",
       "      <td>...</td>\n",
       "      <td>...</td>\n",
       "      <td>...</td>\n",
       "      <td>...</td>\n",
       "      <td>...</td>\n",
       "      <td>...</td>\n",
       "      <td>...</td>\n",
       "      <td>...</td>\n",
       "      <td>...</td>\n",
       "      <td>...</td>\n",
       "    </tr>\n",
       "    <tr>\n",
       "      <th>582</th>\n",
       "      <td>FD2E8957-414B-BEEC-E9AD-59AA7A8A6290</td>\n",
       "      <td>CcU-3232</td>\n",
       "      <td>2390</td>\n",
       "      <td>2022-03-13 00:27:34</td>\n",
       "      <td>78.29</td>\n",
       "      <td>False</td>\n",
       "      <td>83, 7, 17, 89</td>\n",
       "      <td>272</td>\n",
       "      <td>-24.3194717184</td>\n",
       "      <td>-11.4134912</td>\n",
       "      <td>2022-03-13</td>\n",
       "      <td>2022</td>\n",
       "      <td>Sunday</td>\n",
       "      <td>2390</td>\n",
       "      <td>Ireland</td>\n",
       "    </tr>\n",
       "    <tr>\n",
       "      <th>583</th>\n",
       "      <td>FD89D51B-AE8D-77DC-E450-B8083FBD3187</td>\n",
       "      <td>CcU-3960</td>\n",
       "      <td>2494</td>\n",
       "      <td>2022-03-16 02:35:05</td>\n",
       "      <td>200.72</td>\n",
       "      <td>False</td>\n",
       "      <td>3, 2, 73, 1</td>\n",
       "      <td>250</td>\n",
       "      <td>8.012168192</td>\n",
       "      <td>-64.671543808</td>\n",
       "      <td>2022-03-16</td>\n",
       "      <td>2022</td>\n",
       "      <td>Wednesday</td>\n",
       "      <td>2494</td>\n",
       "      <td>Ireland</td>\n",
       "    </tr>\n",
       "    <tr>\n",
       "      <th>584</th>\n",
       "      <td>FD9CBCCD-8E1E-8DA1-4606-7E3A6F3A5A65</td>\n",
       "      <td>CcU-4331</td>\n",
       "      <td>2302</td>\n",
       "      <td>2021-06-13 11:41:17</td>\n",
       "      <td>42.32</td>\n",
       "      <td>False</td>\n",
       "      <td>37</td>\n",
       "      <td>223</td>\n",
       "      <td>-77.8604531712</td>\n",
       "      <td>-172.3457293312</td>\n",
       "      <td>2021-06-13</td>\n",
       "      <td>2021</td>\n",
       "      <td>Sunday</td>\n",
       "      <td>2302</td>\n",
       "      <td>Germany</td>\n",
       "    </tr>\n",
       "    <tr>\n",
       "      <th>585</th>\n",
       "      <td>FE809ED4-2DB6-55AC-C915-929516E4646B</td>\n",
       "      <td>CcU-4849</td>\n",
       "      <td>2302</td>\n",
       "      <td>2021-11-09 21:35:40</td>\n",
       "      <td>219.83</td>\n",
       "      <td>False</td>\n",
       "      <td>23, 43</td>\n",
       "      <td>185</td>\n",
       "      <td>-46.0751433728</td>\n",
       "      <td>-142.2416956416</td>\n",
       "      <td>2021-11-09</td>\n",
       "      <td>2021</td>\n",
       "      <td>Tuesday</td>\n",
       "      <td>2302</td>\n",
       "      <td>Germany</td>\n",
       "    </tr>\n",
       "    <tr>\n",
       "      <th>586</th>\n",
       "      <td>FE96CE47-BD59-381C-4E18-E3CA3D44E8FF</td>\n",
       "      <td>CcU-2945</td>\n",
       "      <td>2226</td>\n",
       "      <td>2021-06-15 00:26:29</td>\n",
       "      <td>480.13</td>\n",
       "      <td>True</td>\n",
       "      <td>3</td>\n",
       "      <td>275</td>\n",
       "      <td>-21.8805424128</td>\n",
       "      <td>-112.5880026112</td>\n",
       "      <td>2021-06-15</td>\n",
       "      <td>2021</td>\n",
       "      <td>Tuesday</td>\n",
       "      <td>2226</td>\n",
       "      <td>Australia</td>\n",
       "    </tr>\n",
       "  </tbody>\n",
       "</table>\n",
       "<p>587 rows × 15 columns</p>\n",
       "</div>"
      ],
      "text/plain": [
       "                                       id   card_id business_id  \\\n",
       "0    02C6201E-D90A-1859-B4EE-88D2986D3B02  CcU-2938        2362   \n",
       "1    0466A42E-47CF-8D24-FD01-C0B689713128  CcU-4219        2302   \n",
       "2    063FBA79-99EC-66FB-29F7-25726D1764A5  CcU-2987        2250   \n",
       "3    0668296C-CDB9-A883-76BC-2E4C44F8C8AE  CcU-3743        2618   \n",
       "4    06CD9AA5-9B42-D684-DDDD-A5E394FEBA99  CcU-2959        2346   \n",
       "..                                    ...       ...         ...   \n",
       "582  FD2E8957-414B-BEEC-E9AD-59AA7A8A6290  CcU-3232        2390   \n",
       "583  FD89D51B-AE8D-77DC-E450-B8083FBD3187  CcU-3960        2494   \n",
       "584  FD9CBCCD-8E1E-8DA1-4606-7E3A6F3A5A65  CcU-4331        2302   \n",
       "585  FE809ED4-2DB6-55AC-C915-929516E4646B  CcU-4849        2302   \n",
       "586  FE96CE47-BD59-381C-4E18-E3CA3D44E8FF  CcU-2945        2226   \n",
       "\n",
       "              timestamp  amount  declined    product_ids user_id  \\\n",
       "0   2021-08-28 23:42:24  466.92     False      71, 1, 19      92   \n",
       "1   2021-07-26 07:29:18   49.53     False     47, 97, 43     170   \n",
       "2   2022-01-06 21:25:27   92.61     False  47, 67, 31, 5     275   \n",
       "3   2022-01-26 02:07:14  394.18     False     89, 83, 79     265   \n",
       "4   2021-10-26 23:00:01  279.93     False         43, 31      92   \n",
       "..                  ...     ...       ...            ...     ...   \n",
       "582 2022-03-13 00:27:34   78.29     False  83, 7, 17, 89     272   \n",
       "583 2022-03-16 02:35:05  200.72     False    3, 2, 73, 1     250   \n",
       "584 2021-06-13 11:41:17   42.32     False             37     223   \n",
       "585 2021-11-09 21:35:40  219.83     False         23, 43     185   \n",
       "586 2021-06-15 00:26:29  480.13      True              3     275   \n",
       "\n",
       "                lat        longitude      fecha  Year        Day company_id  \\\n",
       "0     81.9184589824   -12.5275561984 2021-08-28  2021   Saturday       2362   \n",
       "1    -43.9694885888  -117.5251835904 2021-07-26  2021     Monday       2302   \n",
       "2     -81.222680576   -129.049879552 2022-01-06  2022   Thursday       2250   \n",
       "3    -34.3593055232   -100.555928064 2022-01-26  2022  Wednesday       2618   \n",
       "4     33.7381445632    158.298210304 2021-10-26  2021    Tuesday       2346   \n",
       "..              ...              ...        ...   ...        ...        ...   \n",
       "582  -24.3194717184      -11.4134912 2022-03-13  2022     Sunday       2390   \n",
       "583     8.012168192    -64.671543808 2022-03-16  2022  Wednesday       2494   \n",
       "584  -77.8604531712  -172.3457293312 2021-06-13  2021     Sunday       2302   \n",
       "585  -46.0751433728  -142.2416956416 2021-11-09  2021    Tuesday       2302   \n",
       "586  -21.8805424128  -112.5880026112 2021-06-15  2021    Tuesday       2226   \n",
       "\n",
       "            country  \n",
       "0            Canada  \n",
       "1           Germany  \n",
       "2             Italy  \n",
       "3    United Kingdom  \n",
       "4            Sweden  \n",
       "..              ...  \n",
       "582         Ireland  \n",
       "583         Ireland  \n",
       "584         Germany  \n",
       "585         Germany  \n",
       "586       Australia  \n",
       "\n",
       "[587 rows x 15 columns]"
      ]
     },
     "execution_count": 306,
     "metadata": {},
     "output_type": "execute_result"
    }
   ],
   "source": [
    "transactions_companies = dfs['df_transactions'].merge(\n",
    "    dfs['df_companies'][['company_id', 'country']], \n",
    "    left_on='business_id', \n",
    "    right_on='company_id',\n",
    "    how='left'\n",
    ")\n",
    "transactions_companies"
   ]
  },
  {
   "cell_type": "code",
   "execution_count": 307,
   "id": "ad2aed4a",
   "metadata": {},
   "outputs": [
    {
     "name": "stdout",
     "output_type": "stream",
     "text": [
      "           country    amount\n",
      "5          Germany  26888.55\n",
      "13  United Kingdom  25274.38\n",
      "12          Sweden  18813.45\n",
      "6          Ireland  16006.22\n",
      "10          Norway  15318.01\n",
      "2           Canada  14930.69\n",
      "14   United States   2587.78\n",
      "8      Netherlands   2409.40\n",
      "7            Italy   2190.08\n",
      "1          Belgium   2041.74\n",
      "0        Australia   1063.99\n",
      "9      New Zealand   1002.37\n",
      "4           France    508.23\n",
      "3            China    444.48\n",
      "11           Spain     26.22\n"
     ]
    }
   ],
   "source": [
    "tr_pais = transactions_companies[transactions_companies['declined'] == 0]\n",
    "tr_pais = tr_pais.groupby('country')['amount'].sum().reset_index()\n",
    "tr_pais = tr_pais.sort_values('amount', ascending=False)\n",
    "print(tr_pais)"
   ]
  },
  {
   "cell_type": "code",
   "execution_count": 308,
   "id": "5de4670c",
   "metadata": {},
   "outputs": [
    {
     "name": "stdout",
     "output_type": "stream",
     "text": [
      "                                     id  amount  declined         country\n",
      "0  02C6201E-D90A-1859-B4EE-88D2986D3B02  466.92     False          Canada\n",
      "1  0466A42E-47CF-8D24-FD01-C0B689713128   49.53     False         Germany\n",
      "2  063FBA79-99EC-66FB-29F7-25726D1764A5   92.61     False           Italy\n",
      "3  0668296C-CDB9-A883-76BC-2E4C44F8C8AE  394.18     False  United Kingdom\n",
      "4  06CD9AA5-9B42-D684-DDDD-A5E394FEBA99  279.93     False          Sweden\n",
      "5  07A46D48-31A3-7E87-65B9-0DA902AD109F  340.87      True   United States\n",
      "6  09DE92CE-6F27-2BB7-13B5-9385B2B3B8E2  303.05      True          Canada\n",
      "7  0A476ED9-0C13-1962-F87B-D3563924B539  430.49     False         Germany\n",
      "8  0BEB80B7-9D66-1707-CE4B-9DC7E71914B5  288.81      True     New Zealand\n",
      "9  0C7C3A33-9947-3BC1-846D-7BE3D0D17598  103.44      True          Sweden\n"
     ]
    }
   ],
   "source": [
    "print(transactions_companies[['id', 'amount', 'declined', 'country']].head(10))"
   ]
  },
  {
   "cell_type": "code",
   "execution_count": 309,
   "id": "ee931267",
   "metadata": {},
   "outputs": [
    {
     "data": {
      "image/png": "[encoded data removed]",
      "text/plain": [
       "<Figure size 1008x504 with 1 Axes>"
      ]
     },
     "metadata": {},
     "output_type": "display_data"
    }
   ],
   "source": [
    "plt.figure(figsize=(14,7))\n",
    "sns.barplot(data=tr_pais, x='country', y='amount', palette='viridis')\n",
    "plt.title('Total de Transacciones Aceptadas por País', fontsize=18)\n",
    "plt.xlabel('País', fontsize=16)\n",
    "plt.ylabel('Total (€)')\n",
    "plt.xticks(rotation=60)\n",
    "plt.tight_layout()\n",
    "plt.show()"
   ]
  },
  {
   "cell_type": "code",
   "execution_count": 310,
   "id": "3d3500d3",
   "metadata": {},
   "outputs": [
    {
     "data": {
      "image/png": "[encoded data removed]",
      "text/plain": [
       "<Figure size 432x288 with 1 Axes>"
      ]
     },
     "metadata": {},
     "output_type": "display_data"
    }
   ],
   "source": [
    "tr_pais = tr_pais.groupby('country')['amount'].mean().plot.bar()\n",
    "#més senzill"
   ]
  },
  {
   "cell_type": "code",
   "execution_count": 311,
   "id": "2730a71c",
   "metadata": {},
   "outputs": [],
   "source": [
    "#Limpiamos columnas de IDs\n",
    "dfs['df_transactions']['business_id'] = dfs['df_transactions']['business_id'].str.replace('b-', '').str.strip()\n",
    "dfs['df_companies']['company_id'] = dfs['df_companies']['company_id'].str.strip()"
   ]
  },
  {
   "cell_type": "code",
   "execution_count": 312,
   "id": "2f12758d",
   "metadata": {},
   "outputs": [
    {
     "name": "stdout",
     "output_type": "stream",
     "text": [
      "     country    amount\n",
      "0  Australia   2784.63\n",
      "1    Belgium   2965.92\n",
      "2     Canada  16448.52\n",
      "3      China    682.67\n",
      "4     France   1075.19\n"
     ]
    }
   ],
   "source": [
    "#Comprobamos la agrupación\n",
    "tr_país = transactions_companies.groupby('country')['amount'].sum().reset_index()\n",
    "print(tr_país.head())  # Muestra las primeras filas del DataFrame agrupado\n"
   ]
  },
  {
   "cell_type": "code",
   "execution_count": 313,
   "id": "06de96b1",
   "metadata": {},
   "outputs": [
    {
     "name": "stdout",
     "output_type": "stream",
     "text": [
      "0\n"
     ]
    }
   ],
   "source": [
    "# Verificamos si hay valores NaN en la columna 'country'\n",
    "print(tr_país['country'].isna().sum()) "
   ]
  },
  {
   "cell_type": "code",
   "execution_count": 314,
   "id": "811742a9",
   "metadata": {},
   "outputs": [],
   "source": [
    "#Eliminamos filas con valores nulos en la columna 'country'\n",
    "tr_país = tr_país.dropna(subset=['country'])\n"
   ]
  },
  {
   "cell_type": "code",
   "execution_count": 316,
   "id": "7d6eb281",
   "metadata": {},
   "outputs": [
    {
     "name": "stdout",
     "output_type": "stream",
     "text": [
      "<class 'pandas.core.frame.DataFrame'>\n",
      "           country    amount\n",
      "5          Germany  26888.55\n",
      "13  United Kingdom  25274.38\n",
      "12          Sweden  18813.45\n",
      "6          Ireland  16006.22\n",
      "10          Norway  15318.01\n"
     ]
    },
    {
     "data": {
      "image/png": "[encoded data removed]",
      "text/plain": [
       "<Figure size 576x432 with 1 Axes>"
      ]
     },
     "metadata": {},
     "output_type": "display_data"
    }
   ],
   "source": [
    "tr_pais = transactions_companies[transactions_companies['declined'] == 0]\n",
    "tr_pais = tr_pais.groupby('country')['amount'].sum().reset_index()\n",
    "tr_pais = tr_pais.sort_values('amount', ascending=False)\n",
    "\n",
    "print(type(tr_pais)) \n",
    "print(tr_pais.head())  \n",
    "\n",
    "plt.figure(figsize=(8, 6))\n",
    "sns.barplot(data=tr_pais, x='country', y='amount')\n",
    "plt.title('Total de Transacciones Aceptadas por País')\n",
    "plt.xlabel('País')\n",
    "plt.ylabel('Cantidad')\n",
    "plt.xticks(rotation=45)\n",
    "plt.tight_layout()\n",
    "plt.show()\n"
   ]
  },
  {
   "cell_type": "code",
   "execution_count": 317,
   "id": "2bc53d66",
   "metadata": {},
   "outputs": [
    {
     "name": "stdout",
     "output_type": "stream",
     "text": [
      "country     object\n",
      "amount     float64\n",
      "dtype: object\n"
     ]
    }
   ],
   "source": [
    "print(tr_país.dtypes)\n",
    "\n",
    "tr_país['amount'] = pd.to_numeric(tr_país['amount'], errors='coerce')\n",
    "\n",
    "tr_país['country'] = tr_país['country'].astype(str)\n"
   ]
  },
  {
   "cell_type": "code",
   "execution_count": 318,
   "id": "ddcc3693",
   "metadata": {},
   "outputs": [
    {
     "name": "stdout",
     "output_type": "stream",
     "text": [
      "0\n"
     ]
    }
   ],
   "source": [
    "print(tr_país['amount'].isna().sum())\n",
    "tr_país = tr_país.dropna(subset=['amount'])\n",
    "#para comprobar valores duplicados"
   ]
  },
  {
   "cell_type": "code",
   "execution_count": 319,
   "id": "8f2471d4",
   "metadata": {},
   "outputs": [
    {
     "data": {
      "text/html": [
       "<div>\n",
       "<style scoped>\n",
       "    .dataframe tbody tr th:only-of-type {\n",
       "        vertical-align: middle;\n",
       "    }\n",
       "\n",
       "    .dataframe tbody tr th {\n",
       "        vertical-align: top;\n",
       "    }\n",
       "\n",
       "    .dataframe thead th {\n",
       "        text-align: right;\n",
       "    }\n",
       "</style>\n",
       "<table border=\"1\" class=\"dataframe\">\n",
       "  <thead>\n",
       "    <tr style=\"text-align: right;\">\n",
       "      <th></th>\n",
       "      <th>id</th>\n",
       "      <th>product_name</th>\n",
       "      <th>price</th>\n",
       "      <th>colour</th>\n",
       "      <th>weight</th>\n",
       "      <th>warehouse_id</th>\n",
       "    </tr>\n",
       "  </thead>\n",
       "  <tbody>\n",
       "    <tr>\n",
       "      <th>0</th>\n",
       "      <td>1</td>\n",
       "      <td>Direwolf Stannis</td>\n",
       "      <td>161.11</td>\n",
       "      <td>#7c7c7c</td>\n",
       "      <td>1.0</td>\n",
       "      <td>WH-4</td>\n",
       "    </tr>\n",
       "    <tr>\n",
       "      <th>1</th>\n",
       "      <td>10</td>\n",
       "      <td>Karstark Dorne</td>\n",
       "      <td>119.52</td>\n",
       "      <td>#f4f4f4</td>\n",
       "      <td>2.4</td>\n",
       "      <td>WH--5</td>\n",
       "    </tr>\n",
       "    <tr>\n",
       "      <th>2</th>\n",
       "      <td>100</td>\n",
       "      <td>south duel</td>\n",
       "      <td>40.43</td>\n",
       "      <td>#6d6d6d</td>\n",
       "      <td>3.0</td>\n",
       "      <td>WH--95</td>\n",
       "    </tr>\n",
       "    <tr>\n",
       "      <th>3</th>\n",
       "      <td>11</td>\n",
       "      <td>Karstark Dorne</td>\n",
       "      <td>49.70</td>\n",
       "      <td>#141414</td>\n",
       "      <td>2.7</td>\n",
       "      <td>WH--6</td>\n",
       "    </tr>\n",
       "    <tr>\n",
       "      <th>4</th>\n",
       "      <td>12</td>\n",
       "      <td>duel Direwolf</td>\n",
       "      <td>181.60</td>\n",
       "      <td>#a8a8a8</td>\n",
       "      <td>2.1</td>\n",
       "      <td>WH--7</td>\n",
       "    </tr>\n",
       "    <tr>\n",
       "      <th>...</th>\n",
       "      <td>...</td>\n",
       "      <td>...</td>\n",
       "      <td>...</td>\n",
       "      <td>...</td>\n",
       "      <td>...</td>\n",
       "      <td>...</td>\n",
       "    </tr>\n",
       "    <tr>\n",
       "      <th>95</th>\n",
       "      <td>95</td>\n",
       "      <td>riverlands north Direwolf</td>\n",
       "      <td>6.90</td>\n",
       "      <td>#c1c1c1</td>\n",
       "      <td>2.7</td>\n",
       "      <td>WH--90</td>\n",
       "    </tr>\n",
       "    <tr>\n",
       "      <th>96</th>\n",
       "      <td>96</td>\n",
       "      <td>dooku solo</td>\n",
       "      <td>20.92</td>\n",
       "      <td>#282828</td>\n",
       "      <td>2.1</td>\n",
       "      <td>WH--91</td>\n",
       "    </tr>\n",
       "    <tr>\n",
       "      <th>97</th>\n",
       "      <td>97</td>\n",
       "      <td>jinn Winterfell</td>\n",
       "      <td>65.25</td>\n",
       "      <td>#bababa</td>\n",
       "      <td>1.0</td>\n",
       "      <td>WH--92</td>\n",
       "    </tr>\n",
       "    <tr>\n",
       "      <th>98</th>\n",
       "      <td>98</td>\n",
       "      <td>Direwolf Littlefinger</td>\n",
       "      <td>38.33</td>\n",
       "      <td>#bababa</td>\n",
       "      <td>2.0</td>\n",
       "      <td>WH--93</td>\n",
       "    </tr>\n",
       "    <tr>\n",
       "      <th>99</th>\n",
       "      <td>99</td>\n",
       "      <td>the duel</td>\n",
       "      <td>151.78</td>\n",
       "      <td>#212121</td>\n",
       "      <td>1.5</td>\n",
       "      <td>WH--94</td>\n",
       "    </tr>\n",
       "  </tbody>\n",
       "</table>\n",
       "<p>100 rows × 6 columns</p>\n",
       "</div>"
      ],
      "text/plain": [
       "     id               product_name   price   colour  weight warehouse_id\n",
       "0     1           Direwolf Stannis  161.11  #7c7c7c     1.0         WH-4\n",
       "1    10             Karstark Dorne  119.52  #f4f4f4     2.4        WH--5\n",
       "2   100                 south duel   40.43  #6d6d6d     3.0       WH--95\n",
       "3    11             Karstark Dorne   49.70  #141414     2.7        WH--6\n",
       "4    12              duel Direwolf  181.60  #a8a8a8     2.1        WH--7\n",
       "..  ...                        ...     ...      ...     ...          ...\n",
       "95   95  riverlands north Direwolf    6.90  #c1c1c1     2.7       WH--90\n",
       "96   96                 dooku solo   20.92  #282828     2.1       WH--91\n",
       "97   97            jinn Winterfell   65.25  #bababa     1.0       WH--92\n",
       "98   98      Direwolf Littlefinger   38.33  #bababa     2.0       WH--93\n",
       "99   99                   the duel  151.78  #212121     1.5       WH--94\n",
       "\n",
       "[100 rows x 6 columns]"
      ]
     },
     "execution_count": 319,
     "metadata": {},
     "output_type": "execute_result"
    }
   ],
   "source": [
    "# Eliminamos el dolar en 'price' y cambiamos a float\n",
    "dfs['df_products']['price'] = dfs['df_products']['price'].replace('$','').astype(float)\n",
    "dfs['df_products']"
   ]
  },
  {
   "cell_type": "markdown",
   "id": "fc42e233",
   "metadata": {},
   "source": [
    "### EXERCICI 5\n",
    "Dues variables categòriques:"
   ]
  },
  {
   "cell_type": "code",
   "execution_count": 320,
   "id": "d7aa4b13",
   "metadata": {},
   "outputs": [
    {
     "data": {
      "image/png": "[encoded data removed]",
      "text/plain": [
       "<Figure size 432x288 with 1 Axes>"
      ]
     },
     "metadata": {},
     "output_type": "display_data"
    }
   ],
   "source": [
    "transactions_users = dfs['df_transactions'].merge(dfs['df_users'][['id', 'country']], left_on='user_id', right_on='id', suffixes=('', '_user'))\n",
    "trans_country = transactions_users.groupby('country').size().reset_index(name='total_transactions')\n",
    "\n",
    "sns.barplot(data=trans_country, x='country', y='total_transactions')\n",
    "plt.title('Total de Transacciones por País de Usuario')\n",
    "plt.xlabel('País')\n",
    "plt.ylabel('Total de Transacciones')\n",
    "plt.xticks(rotation=45)\n",
    "plt.tight_layout()\n",
    "plt.show()\n"
   ]
  },
  {
   "cell_type": "markdown",
   "id": "f0fc0ac3",
   "metadata": {},
   "source": [
    "### EXERCICI 6\n",
    "Tres variables\n"
   ]
  },
  {
   "cell_type": "code",
   "execution_count": 321,
   "id": "818554cc",
   "metadata": {},
   "outputs": [
    {
     "data": {
      "image/png": "[encoded data removed]",
      "text/plain": [
       "<Figure size 432x288 with 1 Axes>"
      ]
     },
     "metadata": {},
     "output_type": "display_data"
    }
   ],
   "source": [
    "#está mal este\n",
    "#Scatter plot (Cuantas transacciones y gasto total) \n",
    "#no me sale bien, mirar bien el merge o las variables.\n",
    "\n",
    "bubble_chart= dfs['df_transactions']\n",
    "bubble_chart = pd.merge(bubble_chart[['id','user_id','amount']], dfs['df_users'][['id','country']], left_on= 'user_id', right_on= 'id')\n",
    "\n",
    "bubble_chart = bubble_chart.drop('id_y', axis = 1)\n",
    "\n",
    "bubble_chart = bubble_chart.rename(columns={'id_x':'id'})\n",
    "\n",
    "bubble_chart_grouped = bubble_chart.groupby('id').agg(\n",
    "    total_amount=('amount', 'sum'),\n",
    "    total_trans= ('id', 'count'),\n",
    "    country = ('country','first')\n",
    ").reset_index()\n",
    "bubble_chart_grouped = bubble_chart_grouped.dropna(subset=['country'])\n",
    "sns.set_theme(style=\"darkgrid\")\n",
    "\n",
    "sns.scatterplot(\n",
    "    data= bubble_chart_grouped,\n",
    "    x=\"total_amount\",\n",
    "    y=\"total_trans\",\n",
    "    hue= \"country\")\n",
    "plt.title('Gasto Total y Núm transacciones por Cliente y País')\n",
    "plt.xlabel('Gasto Total (€)')\n",
    "plt.ylabel('Número de transacciones')\n",
    "plt.show()\n"
   ]
  },
  {
   "cell_type": "code",
   "execution_count": 322,
   "id": "a6e5f55c",
   "metadata": {},
   "outputs": [
    {
     "data": {
      "image/png": "[encoded data removed]",
      "text/plain": [
       "<Figure size 432x288 with 1 Axes>"
      ]
     },
     "metadata": {},
     "output_type": "display_data"
    }
   ],
   "source": [
    "bubble_chart = dfs['df_transactions'][['id', 'user_id', 'amount']].copy()\n",
    "bubble_chart = bubble_chart.merge(\n",
    "    dfs['df_users'][['id', 'country']],\n",
    "    left_on='user_id',\n",
    "    right_on='id',\n",
    "    suffixes=('_transaction', '_user')\n",
    ")\n",
    "# eliminamos el id duplicado\n",
    "bubble_chart = bubble_chart.drop(columns='id_user')\n",
    "bubble_chart = bubble_chart.rename(columns={'id_transaction': 'transaction_id'})\n",
    "\n",
    "bubble_chart_grouped = bubble_chart.groupby('user_id').agg(\n",
    "    total_amount=('amount', 'sum'),\n",
    "    total_trans=('transaction_id', 'count'),\n",
    "    country=('country', 'first')\n",
    ").reset_index()\n",
    "\n",
    "bubble_chart_grouped = bubble_chart_grouped.dropna(subset=['country'])\n",
    "\n",
    "sns.set_theme(style=\"darkgrid\")\n",
    "\n",
    "sns.scatterplot(\n",
    "    data=bubble_chart_grouped,\n",
    "    x=\"total_amount\",\n",
    "    y=\"total_trans\",\n",
    "    hue=\"country\"\n",
    ")\n",
    "\n",
    "plt.title('Gasto Total y Nº Transacciones por Cliente y País')\n",
    "plt.xlabel('Gasto Total (€)')\n",
    "plt.ylabel('Número de transacciones')\n",
    "plt.tight_layout()\n",
    "plt.show()\n",
    "\n"
   ]
  },
  {
   "cell_type": "code",
   "execution_count": 330,
   "id": "f58c2cc0",
   "metadata": {},
   "outputs": [
    {
     "data": {
      "image/png": "[encoded data removed]",
      "text/plain": [
       "<Figure size 864x576 with 1 Axes>"
      ]
     },
     "metadata": {},
     "output_type": "display_data"
    }
   ],
   "source": [
    "bubble_chart = dfs['df_transactions'][['id', 'user_id', 'amount']].copy()\n",
    "\n",
    "#país del usuario\n",
    "bubble_chart = bubble_chart.merge(\n",
    "    dfs['df_users'][['id', 'country']],\n",
    "    left_on='user_id',\n",
    "    right_on='id',\n",
    "    suffixes=('_transaction', '_user')\n",
    ")\n",
    "\n",
    "#columna duplicada\n",
    "bubble_chart = bubble_chart.drop(columns='id_user')\n",
    "bubble_chart = bubble_chart.rename(columns={'id_transaction': 'transaction_id'})\n",
    "\n",
    "#agrupamos\n",
    "bubble_chart_grouped = bubble_chart.groupby('user_id').agg(\n",
    "    total_amount=('amount', 'sum'),\n",
    "    total_trans=('transaction_id', 'count'),\n",
    "    country=('country', 'first')\n",
    ").reset_index()\n",
    "\n",
    "#los países sin usuario los eliminamos\n",
    "bubble_chart_grouped = bubble_chart_grouped.dropna(subset=['country'])\n",
    "\n",
    "bubble_size = bubble_chart_grouped['total_amount'] / bubble_chart_grouped['total_amount'].max() * 1000\n",
    "\n",
    "plt.figure(figsize=(12, 8))\n",
    "plt.scatter(\n",
    "    bubble_chart_grouped['total_amount'],\n",
    "    bubble_chart_grouped['total_trans'],\n",
    "    s=bubble_size,\n",
    "    alpha=0.6\n",
    ")\n",
    "\n",
    "plt.title('Gasto Total y Nº Transacciones por Cliente y País')\n",
    "plt.xlabel('Gasto Total (€)')\n",
    "plt.ylabel('Número de Transacciones')\n",
    "plt.tight_layout()\n",
    "plt.show()\n",
    "\n"
   ]
  },
  {
   "cell_type": "code",
   "execution_count": 331,
   "id": "9e2e4f6c",
   "metadata": {},
   "outputs": [],
   "source": [
    "%config Completer.use_jedi = False"
   ]
  },
  {
   "cell_type": "markdown",
   "id": "3ad0127b",
   "metadata": {},
   "source": [
    "### EXERCICI 7\n",
    "Graficar un pairplot"
   ]
  },
  {
   "cell_type": "code",
   "execution_count": 332,
   "id": "7684c49f",
   "metadata": {},
   "outputs": [
    {
     "name": "stdout",
     "output_type": "stream",
     "text": [
      "user_id         0\n",
      "total_amount    0\n",
      "total_trans     0\n",
      "country         0\n",
      "dtype: int64\n"
     ]
    }
   ],
   "source": [
    "print(bubble_chart_grouped.isnull().sum())"
   ]
  },
  {
   "cell_type": "code",
   "execution_count": 333,
   "id": "a44dfde8",
   "metadata": {},
   "outputs": [],
   "source": [
    "bubble_chart_grouped = bubble_chart_grouped.dropna(subset=['total_amount', 'total_trans'])\n"
   ]
  },
  {
   "cell_type": "code",
   "execution_count": 343,
   "id": "401c214a",
   "metadata": {},
   "outputs": [
    {
     "data": {
      "text/plain": [
       "<Figure size 5760x2880 with 0 Axes>"
      ]
     },
     "metadata": {},
     "output_type": "display_data"
    },
    {
     "data": {
      "image/png": "[encoded data removed]",
      "text/plain": [
       "<Figure size 477.975x360 with 6 Axes>"
      ]
     },
     "metadata": {},
     "output_type": "display_data"
    }
   ],
   "source": [
    "bubble_chart_grouped = bubble_chart_grouped.dropna(subset=['total_amount', 'total_trans'])\n",
    "\n",
    "plt.figure(figsize=(80, 40))\n",
    "sns.pairplot(\n",
    "    data=bubble_chart_grouped,\n",
    "    vars=['total_amount', 'total_trans'],\n",
    "    hue='country',\n",
    "    palette='Set2',\n",
    "    plot_kws={'alpha': 0.9}\n",
    ")\n",
    "\n",
    "plt.suptitle('Pairplot: Gasto Total y Número de Transacciones por País', y=1.02, fontsize=20)\n",
    "plt.show()\n",
    "#vemos el gasto total de cada usuario en comparación con el número de transacciones totales de cada usuario por país"
   ]
  },
  {
   "cell_type": "code",
   "execution_count": null,
   "id": "167e93b9",
   "metadata": {},
   "outputs": [],
   "source": []
  }
 ],
 "metadata": {
  "kernelspec": {
   "display_name": "Python 3 (ipykernel)",
   "language": "python",
   "name": "python3"
  },
  "language_info": {
   "codemirror_mode": {
    "name": "ipython",
    "version": 3
   },
   "file_extension": ".py",
   "mimetype": "text/x-python",
   "name": "python",
   "nbconvert_exporter": "python",
   "pygments_lexer": "ipython3",
   "version": "3.9.12"
  }
 },
 "nbformat": 4,
 "nbformat_minor": 5
}
